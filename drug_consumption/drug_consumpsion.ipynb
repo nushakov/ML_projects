{
 "cells": [
  {
   "cell_type": "markdown",
   "metadata": {},
   "source": [
    "# Machine Learning experiment"
   ]
  },
  {
   "cell_type": "markdown",
   "metadata": {},
   "source": [
    "Цель этого задания - продемонстрировать, что вы можете подготовить набор данных для анализа, провести эксперименты машинного обучения и тщательно изучить результаты."
   ]
  },
  {
   "cell_type": "markdown",
   "metadata": {},
   "source": [
    "Ссылка на набор данных и описание аттрибутов: http://archive.ics.uci.edu/ml/datasets/Drug+consumption+%28quantified%29"
   ]
  },
  {
   "cell_type": "markdown",
   "metadata": {},
   "source": [
    "• Прочтите описание задачи и определите свои входные и выходные переменные. Загрузите данные с помощью pandas и разделите датачет на X (входы) и y (выходы).  \n",
    "• Подготовьте набор данных: закодируйте категориальные переменные (если есть), обработайте отсутствующие переменные (если есть), синтезируйте новые переменные (если у вас есть интуиция, что они могут быть полезны). При необходимости выполните предварительную обработку целевой переменной (например, объедините различные задачи классификации в одну или преобразуйте целевую переменную в двоичную). Для каждого преобразования дайте четкое объяснение вашей мотивации.  \n",
    "• Выполните исследовательский анализ данных с помощью визуализации в Seaborn или Matplotlib. Попробуйте найти в данных значимые закономерности, которые можно использовать для конкретизации задачи машинного обучения или для помощи в выборе и настройке моделей машинного обучения. Выполните дополнительную предварительную обработку ваших данных, если ваши выводы предполагают это (опять же, все шаги должны быть мотивированы). Если есть несколько вариантов целевых переменных, вы можете выбрать некоторые из них после этого шага с парой предложений, объясняющих ваш выбор.  \n",
    "• Разработайте надлежащую процедуру перекрестной проверки; выберите подходящую метрику качества. Выберите подходящую модель машинного обучения; Подберите оптимальный набор гиперпараметров. Используйте подготовленную процедуру перекрестной проверки, чтобы оценить качество прогноза.  \n",
    "• Проанализируйте полученные результаты (интересные выводы, замечания по экспериментам ML, применимость модели) и сделать общий вывод."
   ]
  },
  {
   "cell_type": "markdown",
   "metadata": {},
   "source": [
    "В описании предлагается решить следующие задачи:\n",
    "    - multilabel binary classification для каждого из веществ;\n",
    "    - binary classification для каждого из веществ;\n",
    "    - лучшая бинаризация (объединение классов) для задачи binary classification;\n",
    "    - оценить риск быть потребителем каждого вещества"
   ]
  },
  {
   "cell_type": "markdown",
   "metadata": {},
   "source": [
    "## Загрузка и предварительная обработка:"
   ]
  },
  {
   "cell_type": "markdown",
   "metadata": {},
   "source": [
    "Загрузим данные и посмотрим на них:"
   ]
  },
  {
   "cell_type": "code",
   "execution_count": 1,
   "metadata": {
    "collapsed": true
   },
   "outputs": [],
   "source": [
    "# Ваше решение далее\n",
    "import numpy as np\n",
    "import matplotlib.pyplot as plt\n",
    "import pandas as pd\n",
    "import seaborn as sns\n",
    "\n",
    "from sklearn.ensemble import RandomForestClassifier\n",
    "from sklearn.linear_model import LogisticRegression\n",
    "from sklearn.linear_model import LogisticRegressionCV\n",
    "from sklearn.metrics import recall_score\n",
    "from sklearn.model_selection import GridSearchCV\n",
    "from sklearn.model_selection import learning_curve\n",
    "from sklearn.model_selection import train_test_split\n",
    "from sklearn.model_selection import StratifiedKFold\n",
    "from sklearn.model_selection import validation_curve\n",
    "from sklearn.neighbors import KNeighborsClassifier\n",
    "from sklearn.tree import DecisionTreeClassifier\n",
    "from sklearn.preprocessing import StandardScaler"
   ]
  },
  {
   "cell_type": "code",
   "execution_count": 2,
   "metadata": {
    "collapsed": false
   },
   "outputs": [
    {
     "data": {
      "text/html": [
       "<div>\n",
       "<style scoped>\n",
       "    .dataframe tbody tr th:only-of-type {\n",
       "        vertical-align: middle;\n",
       "    }\n",
       "\n",
       "    .dataframe tbody tr th {\n",
       "        vertical-align: top;\n",
       "    }\n",
       "\n",
       "    .dataframe thead th {\n",
       "        text-align: right;\n",
       "    }\n",
       "</style>\n",
       "<table border=\"1\" class=\"dataframe\">\n",
       "  <thead>\n",
       "    <tr style=\"text-align: right;\">\n",
       "      <th></th>\n",
       "      <th>ID</th>\n",
       "      <th>Age</th>\n",
       "      <th>Gender</th>\n",
       "      <th>Education</th>\n",
       "      <th>Country</th>\n",
       "      <th>Ethnicity</th>\n",
       "      <th>Nscore</th>\n",
       "      <th>Escore</th>\n",
       "      <th>Oscore</th>\n",
       "      <th>Ascore</th>\n",
       "      <th>...</th>\n",
       "      <th>Ecstasy</th>\n",
       "      <th>Heroin</th>\n",
       "      <th>Ketamine</th>\n",
       "      <th>Legalh</th>\n",
       "      <th>LSD</th>\n",
       "      <th>Meth</th>\n",
       "      <th>Mushrooms</th>\n",
       "      <th>Nicotine</th>\n",
       "      <th>Semer</th>\n",
       "      <th>VSA</th>\n",
       "    </tr>\n",
       "  </thead>\n",
       "  <tbody>\n",
       "    <tr>\n",
       "      <th>0</th>\n",
       "      <td>1</td>\n",
       "      <td>0.49788</td>\n",
       "      <td>0.48246</td>\n",
       "      <td>-0.05921</td>\n",
       "      <td>0.96082</td>\n",
       "      <td>0.12600</td>\n",
       "      <td>0.31287</td>\n",
       "      <td>-0.57545</td>\n",
       "      <td>-0.58331</td>\n",
       "      <td>-0.91699</td>\n",
       "      <td>...</td>\n",
       "      <td>CL0</td>\n",
       "      <td>CL0</td>\n",
       "      <td>CL0</td>\n",
       "      <td>CL0</td>\n",
       "      <td>CL0</td>\n",
       "      <td>CL0</td>\n",
       "      <td>CL0</td>\n",
       "      <td>CL2</td>\n",
       "      <td>CL0</td>\n",
       "      <td>CL0</td>\n",
       "    </tr>\n",
       "    <tr>\n",
       "      <th>1</th>\n",
       "      <td>2</td>\n",
       "      <td>-0.07854</td>\n",
       "      <td>-0.48246</td>\n",
       "      <td>1.98437</td>\n",
       "      <td>0.96082</td>\n",
       "      <td>-0.31685</td>\n",
       "      <td>-0.67825</td>\n",
       "      <td>1.93886</td>\n",
       "      <td>1.43533</td>\n",
       "      <td>0.76096</td>\n",
       "      <td>...</td>\n",
       "      <td>CL4</td>\n",
       "      <td>CL0</td>\n",
       "      <td>CL2</td>\n",
       "      <td>CL0</td>\n",
       "      <td>CL2</td>\n",
       "      <td>CL3</td>\n",
       "      <td>CL0</td>\n",
       "      <td>CL4</td>\n",
       "      <td>CL0</td>\n",
       "      <td>CL0</td>\n",
       "    </tr>\n",
       "    <tr>\n",
       "      <th>2</th>\n",
       "      <td>3</td>\n",
       "      <td>0.49788</td>\n",
       "      <td>-0.48246</td>\n",
       "      <td>-0.05921</td>\n",
       "      <td>0.96082</td>\n",
       "      <td>-0.31685</td>\n",
       "      <td>-0.46725</td>\n",
       "      <td>0.80523</td>\n",
       "      <td>-0.84732</td>\n",
       "      <td>-1.62090</td>\n",
       "      <td>...</td>\n",
       "      <td>CL0</td>\n",
       "      <td>CL0</td>\n",
       "      <td>CL0</td>\n",
       "      <td>CL0</td>\n",
       "      <td>CL0</td>\n",
       "      <td>CL0</td>\n",
       "      <td>CL1</td>\n",
       "      <td>CL0</td>\n",
       "      <td>CL0</td>\n",
       "      <td>CL0</td>\n",
       "    </tr>\n",
       "    <tr>\n",
       "      <th>3</th>\n",
       "      <td>4</td>\n",
       "      <td>-0.95197</td>\n",
       "      <td>0.48246</td>\n",
       "      <td>1.16365</td>\n",
       "      <td>0.96082</td>\n",
       "      <td>-0.31685</td>\n",
       "      <td>-0.14882</td>\n",
       "      <td>-0.80615</td>\n",
       "      <td>-0.01928</td>\n",
       "      <td>0.59042</td>\n",
       "      <td>...</td>\n",
       "      <td>CL0</td>\n",
       "      <td>CL0</td>\n",
       "      <td>CL2</td>\n",
       "      <td>CL0</td>\n",
       "      <td>CL0</td>\n",
       "      <td>CL0</td>\n",
       "      <td>CL0</td>\n",
       "      <td>CL2</td>\n",
       "      <td>CL0</td>\n",
       "      <td>CL0</td>\n",
       "    </tr>\n",
       "    <tr>\n",
       "      <th>4</th>\n",
       "      <td>5</td>\n",
       "      <td>0.49788</td>\n",
       "      <td>0.48246</td>\n",
       "      <td>1.98437</td>\n",
       "      <td>0.96082</td>\n",
       "      <td>-0.31685</td>\n",
       "      <td>0.73545</td>\n",
       "      <td>-1.63340</td>\n",
       "      <td>-0.45174</td>\n",
       "      <td>-0.30172</td>\n",
       "      <td>...</td>\n",
       "      <td>CL1</td>\n",
       "      <td>CL0</td>\n",
       "      <td>CL0</td>\n",
       "      <td>CL1</td>\n",
       "      <td>CL0</td>\n",
       "      <td>CL0</td>\n",
       "      <td>CL2</td>\n",
       "      <td>CL2</td>\n",
       "      <td>CL0</td>\n",
       "      <td>CL0</td>\n",
       "    </tr>\n",
       "  </tbody>\n",
       "</table>\n",
       "<p>5 rows × 32 columns</p>\n",
       "</div>"
      ],
      "text/plain": [
       "   ID      Age   Gender  Education  Country  Ethnicity   Nscore   Escore  \\\n",
       "0   1  0.49788  0.48246   -0.05921  0.96082    0.12600  0.31287 -0.57545   \n",
       "1   2 -0.07854 -0.48246    1.98437  0.96082   -0.31685 -0.67825  1.93886   \n",
       "2   3  0.49788 -0.48246   -0.05921  0.96082   -0.31685 -0.46725  0.80523   \n",
       "3   4 -0.95197  0.48246    1.16365  0.96082   -0.31685 -0.14882 -0.80615   \n",
       "4   5  0.49788  0.48246    1.98437  0.96082   -0.31685  0.73545 -1.63340   \n",
       "\n",
       "    Oscore   Ascore ...   Ecstasy  Heroin  Ketamine Legalh  LSD Meth  \\\n",
       "0 -0.58331 -0.91699 ...       CL0     CL0       CL0    CL0  CL0  CL0   \n",
       "1  1.43533  0.76096 ...       CL4     CL0       CL2    CL0  CL2  CL3   \n",
       "2 -0.84732 -1.62090 ...       CL0     CL0       CL0    CL0  CL0  CL0   \n",
       "3 -0.01928  0.59042 ...       CL0     CL0       CL2    CL0  CL0  CL0   \n",
       "4 -0.45174 -0.30172 ...       CL1     CL0       CL0    CL1  CL0  CL0   \n",
       "\n",
       "  Mushrooms Nicotine Semer  VSA  \n",
       "0       CL0      CL2   CL0  CL0  \n",
       "1       CL0      CL4   CL0  CL0  \n",
       "2       CL1      CL0   CL0  CL0  \n",
       "3       CL0      CL2   CL0  CL0  \n",
       "4       CL2      CL2   CL0  CL0  \n",
       "\n",
       "[5 rows x 32 columns]"
      ]
     },
     "execution_count": 2,
     "metadata": {},
     "output_type": "execute_result"
    }
   ],
   "source": [
    "data = pd.read_csv('drug_consumption.data', header=None)\n",
    "data.columns = ['ID', 'Age', 'Gender', 'Education', 'Country', 'Ethnicity', 'Nscore','Escore', 'Oscore', 'Ascore', \n",
    "                'Cscore', 'Impulsive', 'SS', 'Alcohol', 'Amphet', 'Amyl', 'Benzos', 'Caff', 'Cannabis', 'Choc', 'Coke', \n",
    "                'Crack', 'Ecstasy', 'Heroin', 'Ketamine', 'Legalh', 'LSD', 'Meth', 'Mushrooms', 'Nicotine', 'Semer', 'VSA']\n",
    "data.head()"
   ]
  },
  {
   "cell_type": "markdown",
   "metadata": {},
   "source": [
    "Типы переменных данных:"
   ]
  },
  {
   "cell_type": "code",
   "execution_count": 3,
   "metadata": {
    "collapsed": false
   },
   "outputs": [
    {
     "name": "stdout",
     "output_type": "stream",
     "text": [
      "<class 'pandas.core.frame.DataFrame'>\n",
      "RangeIndex: 1885 entries, 0 to 1884\n",
      "Data columns (total 32 columns):\n",
      "ID           1885 non-null int64\n",
      "Age          1885 non-null float64\n",
      "Gender       1885 non-null float64\n",
      "Education    1885 non-null float64\n",
      "Country      1885 non-null float64\n",
      "Ethnicity    1885 non-null float64\n",
      "Nscore       1885 non-null float64\n",
      "Escore       1885 non-null float64\n",
      "Oscore       1885 non-null float64\n",
      "Ascore       1885 non-null float64\n",
      "Cscore       1885 non-null float64\n",
      "Impulsive    1885 non-null float64\n",
      "SS           1885 non-null float64\n",
      "Alcohol      1885 non-null object\n",
      "Amphet       1885 non-null object\n",
      "Amyl         1885 non-null object\n",
      "Benzos       1885 non-null object\n",
      "Caff         1885 non-null object\n",
      "Cannabis     1885 non-null object\n",
      "Choc         1885 non-null object\n",
      "Coke         1885 non-null object\n",
      "Crack        1885 non-null object\n",
      "Ecstasy      1885 non-null object\n",
      "Heroin       1885 non-null object\n",
      "Ketamine     1885 non-null object\n",
      "Legalh       1885 non-null object\n",
      "LSD          1885 non-null object\n",
      "Meth         1885 non-null object\n",
      "Mushrooms    1885 non-null object\n",
      "Nicotine     1885 non-null object\n",
      "Semer        1885 non-null object\n",
      "VSA          1885 non-null object\n",
      "dtypes: float64(12), int64(1), object(19)\n",
      "memory usage: 471.3+ KB\n"
     ]
    }
   ],
   "source": [
    "data.info()"
   ]
  },
  {
   "cell_type": "markdown",
   "metadata": {},
   "source": [
    "Пропущенные значения:"
   ]
  },
  {
   "cell_type": "code",
   "execution_count": 4,
   "metadata": {
    "collapsed": false
   },
   "outputs": [
    {
     "data": {
      "text/plain": [
       "ID           0\n",
       "Age          0\n",
       "Gender       0\n",
       "Education    0\n",
       "Country      0\n",
       "Ethnicity    0\n",
       "Nscore       0\n",
       "Escore       0\n",
       "Oscore       0\n",
       "Ascore       0\n",
       "Cscore       0\n",
       "Impulsive    0\n",
       "SS           0\n",
       "Alcohol      0\n",
       "Amphet       0\n",
       "Amyl         0\n",
       "Benzos       0\n",
       "Caff         0\n",
       "Cannabis     0\n",
       "Choc         0\n",
       "Coke         0\n",
       "Crack        0\n",
       "Ecstasy      0\n",
       "Heroin       0\n",
       "Ketamine     0\n",
       "Legalh       0\n",
       "LSD          0\n",
       "Meth         0\n",
       "Mushrooms    0\n",
       "Nicotine     0\n",
       "Semer        0\n",
       "VSA          0\n",
       "dtype: int64"
      ]
     },
     "execution_count": 4,
     "metadata": {},
     "output_type": "execute_result"
    }
   ],
   "source": [
    "data.isnull().sum()"
   ]
  },
  {
   "cell_type": "markdown",
   "metadata": {
    "collapsed": true
   },
   "source": [
    "пропущенных значений нет ни в одном столбце"
   ]
  },
  {
   "cell_type": "markdown",
   "metadata": {},
   "source": [
    "для более наглядной визуализации, предлагается заменить значения числовых признаков в соответствии с их описанием в источнике:"
   ]
  },
  {
   "cell_type": "code",
   "execution_count": 5,
   "metadata": {
    "collapsed": false
   },
   "outputs": [
    {
     "data": {
      "text/html": [
       "<div>\n",
       "<style scoped>\n",
       "    .dataframe tbody tr th:only-of-type {\n",
       "        vertical-align: middle;\n",
       "    }\n",
       "\n",
       "    .dataframe tbody tr th {\n",
       "        vertical-align: top;\n",
       "    }\n",
       "\n",
       "    .dataframe thead th {\n",
       "        text-align: right;\n",
       "    }\n",
       "</style>\n",
       "<table border=\"1\" class=\"dataframe\">\n",
       "  <thead>\n",
       "    <tr style=\"text-align: right;\">\n",
       "      <th></th>\n",
       "      <th>ID</th>\n",
       "      <th>Age</th>\n",
       "      <th>Gender</th>\n",
       "      <th>Education</th>\n",
       "      <th>Country</th>\n",
       "      <th>Ethnicity</th>\n",
       "      <th>Nscore</th>\n",
       "      <th>Escore</th>\n",
       "      <th>Oscore</th>\n",
       "      <th>Ascore</th>\n",
       "      <th>Cscore</th>\n",
       "      <th>Impulsive</th>\n",
       "      <th>SS</th>\n",
       "    </tr>\n",
       "  </thead>\n",
       "  <tbody>\n",
       "    <tr>\n",
       "      <th>0</th>\n",
       "      <td>1</td>\n",
       "      <td>35-44</td>\n",
       "      <td>Female</td>\n",
       "      <td>Certificate/diploma</td>\n",
       "      <td>UK</td>\n",
       "      <td>Mixed-White/Asian</td>\n",
       "      <td>39</td>\n",
       "      <td>36</td>\n",
       "      <td>42</td>\n",
       "      <td>37</td>\n",
       "      <td>42</td>\n",
       "      <td>355</td>\n",
       "      <td>132</td>\n",
       "    </tr>\n",
       "    <tr>\n",
       "      <th>1</th>\n",
       "      <td>2</td>\n",
       "      <td>25-34</td>\n",
       "      <td>Male</td>\n",
       "      <td>Doctorate degree</td>\n",
       "      <td>UK</td>\n",
       "      <td>White</td>\n",
       "      <td>29</td>\n",
       "      <td>52</td>\n",
       "      <td>55</td>\n",
       "      <td>48</td>\n",
       "      <td>41</td>\n",
       "      <td>307</td>\n",
       "      <td>223</td>\n",
       "    </tr>\n",
       "    <tr>\n",
       "      <th>2</th>\n",
       "      <td>3</td>\n",
       "      <td>35-44</td>\n",
       "      <td>Male</td>\n",
       "      <td>Certificate/diploma</td>\n",
       "      <td>UK</td>\n",
       "      <td>White</td>\n",
       "      <td>31</td>\n",
       "      <td>45</td>\n",
       "      <td>40</td>\n",
       "      <td>32</td>\n",
       "      <td>34</td>\n",
       "      <td>276</td>\n",
       "      <td>249</td>\n",
       "    </tr>\n",
       "    <tr>\n",
       "      <th>3</th>\n",
       "      <td>4</td>\n",
       "      <td>18-24</td>\n",
       "      <td>Female</td>\n",
       "      <td>Master degree</td>\n",
       "      <td>UK</td>\n",
       "      <td>White</td>\n",
       "      <td>34</td>\n",
       "      <td>34</td>\n",
       "      <td>46</td>\n",
       "      <td>47</td>\n",
       "      <td>46</td>\n",
       "      <td>276</td>\n",
       "      <td>132</td>\n",
       "    </tr>\n",
       "    <tr>\n",
       "      <th>4</th>\n",
       "      <td>5</td>\n",
       "      <td>35-44</td>\n",
       "      <td>Female</td>\n",
       "      <td>Doctorate degree</td>\n",
       "      <td>UK</td>\n",
       "      <td>White</td>\n",
       "      <td>43</td>\n",
       "      <td>28</td>\n",
       "      <td>43</td>\n",
       "      <td>41</td>\n",
       "      <td>50</td>\n",
       "      <td>355</td>\n",
       "      <td>223</td>\n",
       "    </tr>\n",
       "  </tbody>\n",
       "</table>\n",
       "</div>"
      ],
      "text/plain": [
       "   ID    Age  Gender            Education Country          Ethnicity  Nscore  \\\n",
       "0   1  35-44  Female  Certificate/diploma      UK  Mixed-White/Asian      39   \n",
       "1   2  25-34    Male     Doctorate degree      UK              White      29   \n",
       "2   3  35-44    Male  Certificate/diploma      UK              White      31   \n",
       "3   4  18-24  Female        Master degree      UK              White      34   \n",
       "4   5  35-44  Female     Doctorate degree      UK              White      43   \n",
       "\n",
       "   Escore  Oscore  Ascore  Cscore  Impulsive   SS  \n",
       "0      36      42      37      42        355  132  \n",
       "1      52      55      48      41        307  223  \n",
       "2      45      40      32      34        276  249  \n",
       "3      34      46      47      46        276  132  \n",
       "4      28      43      41      50        355  223  "
      ]
     },
     "execution_count": 5,
     "metadata": {},
     "output_type": "execute_result"
    }
   ],
   "source": [
    "#Age\n",
    "data['Age'].replace(np.sort(data['Age'].unique()), ['18-24', '25-34', '35-44', '45-54', '55-64', '65+'], inplace=True)\n",
    "\n",
    "\n",
    "#Gender\n",
    "data['Gender'].replace([data['Gender'].max(), data['Gender'].min()], ['Female', 'Male'], inplace=True)\n",
    "\n",
    "\n",
    "#Education\n",
    "valuesEducation = ['Left school <16', 'Left school 16', 'Left school 17', 'Left school 18', 'University/college', \n",
    "                   'Certificate/diploma', 'University degree', 'Master degree', 'Doctorate degree']\n",
    "data['Education'].replace(np.sort(data['Education'].unique()), valuesEducation, inplace=True)\n",
    "\n",
    "\n",
    "#Country\n",
    "valuesCountry = ['Australia', 'Canada', 'New Zealand', 'Other', 'Ireland', 'UK', 'USA']\n",
    "data['Country'] = np.round(data['Country'], 5)\n",
    "data['Country'].replace([-0.09765, 0.24923, -0.46841, -0.28519, 0.21128, 0.96082, -0.57009], valuesCountry, inplace=True)\n",
    "\n",
    "\n",
    "#Ethnicity\n",
    "valuesEthnicity = ['Asian', 'Black', 'Mixed-Black/Asian', 'Mixed-White/Asian', 'Mixed-White/Black', 'Other', 'White']\n",
    "data['Ethnicity'] = np.round(data['Ethnicity'], 5)\n",
    "data['Ethnicity'].replace([-0.50212, -1.10702, 1.90725, 0.12600, -0.22166, 0.11440, -0.31685], valuesEthnicity, inplace=True)\n",
    "\n",
    "\n",
    "#Nscore\n",
    "data['Nscore'].replace(np.sort(data['Nscore'].unique()), list(range(12, 61)), inplace=True)\n",
    "data['Nscore'] = data['Nscore'].astype(int)\n",
    "\n",
    "\n",
    "#Escore\n",
    "valuesEscore = list(range(16, 60))\n",
    "valuesEscore.remove(17)\n",
    "valuesEscore.remove(57)\n",
    "data['Escore'].replace(np.sort(data['Escore'].unique()), valuesEscore, inplace=True)\n",
    "data['Escore'] = data['Escore'].astype(int)\n",
    "\n",
    "\n",
    "#Oscore\n",
    "valuesOscore = list(range(24, 61))\n",
    "valuesOscore.remove(25)\n",
    "valuesOscore.remove(27)\n",
    "data['Oscore'].replace(np.sort(data['Oscore'].unique()), valuesOscore, inplace=True)\n",
    "data['Oscore'] = data['Oscore'].astype(int)\n",
    "\n",
    "\n",
    "#Ascore\n",
    "valuesAscore = list(range(12, 61))\n",
    "for _value in [13, 14, 15, 17, 19, 20, 21, 22]:\n",
    "    valuesAscore.remove(_value)\n",
    "    \n",
    "data['Ascore'].replace(np.sort(data['Ascore'].unique()), valuesAscore, inplace=True)\n",
    "data['Ascore'] = data['Ascore'].astype(int)\n",
    "\n",
    "\n",
    "#Cscore\n",
    "valuesCscore = list(range(17, 60))\n",
    "valuesCscore.remove(18)\n",
    "valuesCscore.remove(58)\n",
    "data['Cscore'].replace(np.sort(data['Cscore'].unique()), valuesCscore, inplace=True)\n",
    "data['Cscore'] = data['Cscore'].astype(int)\n",
    "\n",
    "\n",
    "#Impulsive\n",
    "valuesImpulsive = [20, 276, 307, 355, 257, 216, 195, 148, 104, 7]\n",
    "data['Impulsive'].replace(np.sort(data['Impulsive'].unique()), valuesImpulsive, inplace=True)\n",
    "data['Impulsive'] = data['Impulsive'].astype(int)\n",
    "\n",
    "\n",
    "#SS\n",
    "valuesSS = [71, 87, 132, 169, 211, 223, 219, 249, 211, 210, 103]\n",
    "data['SS'].replace(np.sort(data['SS'].unique()), valuesSS, inplace=True)\n",
    "data['SS'] = data['SS'].astype(int)\n",
    "\n",
    "\n",
    "data[list(data.columns[:13])].head()"
   ]
  },
  {
   "cell_type": "markdown",
   "metadata": {},
   "source": [
    "категориальные признаки закодируем числами:"
   ]
  },
  {
   "cell_type": "code",
   "execution_count": 6,
   "metadata": {
    "collapsed": false
   },
   "outputs": [
    {
     "data": {
      "text/html": [
       "<div>\n",
       "<style scoped>\n",
       "    .dataframe tbody tr th:only-of-type {\n",
       "        vertical-align: middle;\n",
       "    }\n",
       "\n",
       "    .dataframe tbody tr th {\n",
       "        vertical-align: top;\n",
       "    }\n",
       "\n",
       "    .dataframe thead th {\n",
       "        text-align: right;\n",
       "    }\n",
       "</style>\n",
       "<table border=\"1\" class=\"dataframe\">\n",
       "  <thead>\n",
       "    <tr style=\"text-align: right;\">\n",
       "      <th></th>\n",
       "      <th>Alcohol</th>\n",
       "      <th>Amphet</th>\n",
       "      <th>Amyl</th>\n",
       "      <th>Benzos</th>\n",
       "      <th>Caff</th>\n",
       "      <th>Cannabis</th>\n",
       "      <th>Choc</th>\n",
       "      <th>Coke</th>\n",
       "      <th>Crack</th>\n",
       "      <th>Ecstasy</th>\n",
       "      <th>Heroin</th>\n",
       "      <th>Ketamine</th>\n",
       "      <th>Legalh</th>\n",
       "      <th>LSD</th>\n",
       "      <th>Meth</th>\n",
       "      <th>Mushrooms</th>\n",
       "      <th>Nicotine</th>\n",
       "      <th>Semer</th>\n",
       "      <th>VSA</th>\n",
       "    </tr>\n",
       "  </thead>\n",
       "  <tbody>\n",
       "    <tr>\n",
       "      <th>0</th>\n",
       "      <td>5</td>\n",
       "      <td>2</td>\n",
       "      <td>0</td>\n",
       "      <td>2</td>\n",
       "      <td>6</td>\n",
       "      <td>0</td>\n",
       "      <td>5</td>\n",
       "      <td>0</td>\n",
       "      <td>0</td>\n",
       "      <td>0</td>\n",
       "      <td>0</td>\n",
       "      <td>0</td>\n",
       "      <td>0</td>\n",
       "      <td>0</td>\n",
       "      <td>0</td>\n",
       "      <td>0</td>\n",
       "      <td>2</td>\n",
       "      <td>0</td>\n",
       "      <td>0</td>\n",
       "    </tr>\n",
       "    <tr>\n",
       "      <th>1</th>\n",
       "      <td>5</td>\n",
       "      <td>2</td>\n",
       "      <td>2</td>\n",
       "      <td>0</td>\n",
       "      <td>6</td>\n",
       "      <td>4</td>\n",
       "      <td>6</td>\n",
       "      <td>3</td>\n",
       "      <td>0</td>\n",
       "      <td>4</td>\n",
       "      <td>0</td>\n",
       "      <td>2</td>\n",
       "      <td>0</td>\n",
       "      <td>2</td>\n",
       "      <td>3</td>\n",
       "      <td>0</td>\n",
       "      <td>4</td>\n",
       "      <td>0</td>\n",
       "      <td>0</td>\n",
       "    </tr>\n",
       "    <tr>\n",
       "      <th>2</th>\n",
       "      <td>6</td>\n",
       "      <td>0</td>\n",
       "      <td>0</td>\n",
       "      <td>0</td>\n",
       "      <td>6</td>\n",
       "      <td>3</td>\n",
       "      <td>4</td>\n",
       "      <td>0</td>\n",
       "      <td>0</td>\n",
       "      <td>0</td>\n",
       "      <td>0</td>\n",
       "      <td>0</td>\n",
       "      <td>0</td>\n",
       "      <td>0</td>\n",
       "      <td>0</td>\n",
       "      <td>1</td>\n",
       "      <td>0</td>\n",
       "      <td>0</td>\n",
       "      <td>0</td>\n",
       "    </tr>\n",
       "    <tr>\n",
       "      <th>3</th>\n",
       "      <td>4</td>\n",
       "      <td>0</td>\n",
       "      <td>0</td>\n",
       "      <td>3</td>\n",
       "      <td>5</td>\n",
       "      <td>2</td>\n",
       "      <td>4</td>\n",
       "      <td>2</td>\n",
       "      <td>0</td>\n",
       "      <td>0</td>\n",
       "      <td>0</td>\n",
       "      <td>2</td>\n",
       "      <td>0</td>\n",
       "      <td>0</td>\n",
       "      <td>0</td>\n",
       "      <td>0</td>\n",
       "      <td>2</td>\n",
       "      <td>0</td>\n",
       "      <td>0</td>\n",
       "    </tr>\n",
       "    <tr>\n",
       "      <th>4</th>\n",
       "      <td>4</td>\n",
       "      <td>1</td>\n",
       "      <td>1</td>\n",
       "      <td>0</td>\n",
       "      <td>6</td>\n",
       "      <td>3</td>\n",
       "      <td>6</td>\n",
       "      <td>0</td>\n",
       "      <td>0</td>\n",
       "      <td>1</td>\n",
       "      <td>0</td>\n",
       "      <td>0</td>\n",
       "      <td>1</td>\n",
       "      <td>0</td>\n",
       "      <td>0</td>\n",
       "      <td>2</td>\n",
       "      <td>2</td>\n",
       "      <td>0</td>\n",
       "      <td>0</td>\n",
       "    </tr>\n",
       "  </tbody>\n",
       "</table>\n",
       "</div>"
      ],
      "text/plain": [
       "   Alcohol  Amphet  Amyl  Benzos  Caff  Cannabis  Choc  Coke  Crack  Ecstasy  \\\n",
       "0        5       2     0       2     6         0     5     0      0        0   \n",
       "1        5       2     2       0     6         4     6     3      0        4   \n",
       "2        6       0     0       0     6         3     4     0      0        0   \n",
       "3        4       0     0       3     5         2     4     2      0        0   \n",
       "4        4       1     1       0     6         3     6     0      0        1   \n",
       "\n",
       "   Heroin  Ketamine  Legalh  LSD  Meth  Mushrooms  Nicotine  Semer  VSA  \n",
       "0       0         0       0    0     0          0         2      0    0  \n",
       "1       0         2       0    2     3          0         4      0    0  \n",
       "2       0         0       0    0     0          1         0      0    0  \n",
       "3       0         2       0    0     0          0         2      0    0  \n",
       "4       0         0       1    0     0          2         2      0    0  "
      ]
     },
     "execution_count": 6,
     "metadata": {},
     "output_type": "execute_result"
    }
   ],
   "source": [
    "catColumns = list(data.columns[13:])\n",
    "\n",
    "catDict = {'CL0': 0, 'CL1': 1, 'CL2': 2, 'CL3': 3, 'CL4': 4, 'CL5': 5, 'CL6': 6}\n",
    "\n",
    "for _column in catColumns:\n",
    "    data[_column] = data[_column].map(catDict)\n",
    "    \n",
    "data[catColumns].head()"
   ]
  },
  {
   "cell_type": "markdown",
   "metadata": {},
   "source": [
    "## Визуализация"
   ]
  },
  {
   "cell_type": "markdown",
   "metadata": {},
   "source": [
    "для каждого вещества построим гистограмму распределения кол-ва людей по категориям употребления:"
   ]
  },
  {
   "cell_type": "code",
   "execution_count": 7,
   "metadata": {
    "collapsed": false
   },
   "outputs": [
    {
     "data": {
      "image/png": "[encoded data removed]",
      "text/plain": [
       "<Figure size 1440x1800 with 19 Axes>"
      ]
     },
     "metadata": {},
     "output_type": "display_data"
    }
   ],
   "source": [
    "fig, axs = plt.subplots(nrows=6, ncols=3, figsize=(20, 25))\n",
    "plt.subplots_adjust(right=1, top=1)\n",
    "\n",
    "for _i, _column in enumerate(catColumns, 1):\n",
    "    plt.subplot(5, 4, _i)\n",
    "    sns.countplot(x=_column, data=data)\n",
    "    \n",
    "plt.show()    "
   ]
  },
  {
   "cell_type": "markdown",
   "metadata": {},
   "source": [
    "Можно видеть разницу в распределениях для безвредных и легальных веществ типа кофеина, шоколада, алкоголя, никотина, а также препарата \"Semer\", в сравнении с более тяжелыми веществами. "
   ]
  },
  {
   "cell_type": "markdown",
   "metadata": {},
   "source": [
    "Указанные пять веществ предлагается исключить из дальнейшего рассмотрения:"
   ]
  },
  {
   "cell_type": "code",
   "execution_count": 8,
   "metadata": {
    "collapsed": true
   },
   "outputs": [],
   "source": [
    "removeColumns = ['Alcohol', 'Nicotine', 'Caff', 'Choc', 'Semer']\n",
    "data.drop(removeColumns, axis=1, inplace=True)"
   ]
  },
  {
   "cell_type": "markdown",
   "metadata": {},
   "source": [
    "Для признаков \"Возраст\", \"Образование\", \"Этническая принадлежность\", \"Страна\" построим гистограммы распределения кол-ва людей по соответствующим  группам в каждом из указанных признаков:"
   ]
  },
  {
   "cell_type": "code",
   "execution_count": 9,
   "metadata": {
    "collapsed": false
   },
   "outputs": [
    {
     "data": {
      "image/png": "[encoded data removed]",
      "text/plain": [
       "<Figure size 1080x504 with 4 Axes>"
      ]
     },
     "metadata": {},
     "output_type": "display_data"
    }
   ],
   "source": [
    "haracterColumns = ['Age', 'Education', 'Country', 'Ethnicity']\n",
    "\n",
    "fig, axs = plt.subplots(nrows=2, ncols=2, figsize=(15, 7))\n",
    "plt.subplots_adjust(right=1, top=1)\n",
    "\n",
    "for _i, _column in enumerate(haracterColumns, 1):\n",
    "    plt.subplot(2, 2, _i)\n",
    "    chart = sns.countplot(x=_column, data=data)\n",
    "    chart.set_xticklabels(chart.get_xticklabels(), rotation=15, horizontalalignment='right')\n",
    "    \n",
    "plt.show() "
   ]
  },
  {
   "cell_type": "markdown",
   "metadata": {},
   "source": [
    "Для признака \"Country\" такие страны как Канада, Австралия, Ирландия и Новая Зеландия можно объединить с остальными странами (\"Other\"), т.к. суммарное кол-во людей из этих стран невелико по сравнению с США и Великобританией: "
   ]
  },
  {
   "cell_type": "code",
   "execution_count": 10,
   "metadata": {
    "collapsed": true
   },
   "outputs": [],
   "source": [
    "data['Country'].replace(['Canada', 'Australia', 'Ireland', 'New Zealand', 'Other'], 'Other', inplace=True)"
   ]
  },
  {
   "cell_type": "markdown",
   "metadata": {},
   "source": [
    "теперь распределение по этому признаку будет иметь следующий вид:"
   ]
  },
  {
   "cell_type": "code",
   "execution_count": 11,
   "metadata": {
    "collapsed": false
   },
   "outputs": [
    {
     "data": {
      "image/png": "[encoded data removed]",
      "text/plain": [
       "<Figure size 432x288 with 1 Axes>"
      ]
     },
     "metadata": {},
     "output_type": "display_data"
    }
   ],
   "source": [
    "plt.figure()\n",
    "sns.countplot(data=data, x='Country')\n",
    "plt.xlabel('Country')\n",
    "plt.show()"
   ]
  },
  {
   "cell_type": "markdown",
   "metadata": {},
   "source": [
    "Аналогично, по этническому признаку можно выделить две категории: \"White\" и \"Other\""
   ]
  },
  {
   "cell_type": "code",
   "execution_count": 12,
   "metadata": {
    "collapsed": true
   },
   "outputs": [],
   "source": [
    "data['Ethnicity'].replace(['Asian', 'Black', 'Mixed-Black/Asian', 'Mixed-White/Asian', 'Mixed-White/Black', 'Other'],\n",
    "                           'Other', inplace=True)"
   ]
  },
  {
   "cell_type": "code",
   "execution_count": 13,
   "metadata": {
    "collapsed": false
   },
   "outputs": [
    {
     "data": {
      "image/png": "[encoded data removed]",
      "text/plain": [
       "<Figure size 432x288 with 1 Axes>"
      ]
     },
     "metadata": {},
     "output_type": "display_data"
    }
   ],
   "source": [
    "plt.figure()\n",
    "sns.countplot(data=data, x='Ethnicity')\n",
    "plt.xlabel('Ethnicity')\n",
    "plt.show()"
   ]
  },
  {
   "cell_type": "markdown",
   "metadata": {},
   "source": [
    "даже после этого объединения, большинство респондентов относятся к категории \"White\""
   ]
  },
  {
   "cell_type": "markdown",
   "metadata": {
    "collapsed": true
   },
   "source": [
    "## Multilabel classification"
   ]
  },
  {
   "cell_type": "markdown",
   "metadata": {},
   "source": [
    "В машинном обучении классификация с несколькими метками (multilabel) и тесно связанная с ней проблема классификации с несколькими выходами (multioutput) являются вариантами проблемы классификации, в которой каждому экземпляру может быть присвоено несколько меток. Классификация с несколькими метками - это обобщение многоклассовой классификации, которая представляет собой проблему с одной меткой для классификации экземпляров точно в один из более чем двух классов; в задаче с несколькими метками нет ограничений на количество классов, которым может быть назначен экземпляр."
   ]
  },
  {
   "cell_type": "markdown",
   "metadata": {},
   "source": [
    "Иными словами, классификация с несколькими метками - это проблема поиска модели, которая сопоставляет входные данные *X* двоичным векторам *y*, присваивая значение 0 или 1 для каждого элемента (метки) в *y*."
   ]
  },
  {
   "cell_type": "markdown",
   "metadata": {},
   "source": [
    "Предварительно создадим функции:"
   ]
  },
  {
   "cell_type": "code",
   "execution_count": 14,
   "metadata": {
    "collapsed": true
   },
   "outputs": [],
   "source": [
    "def getMultilabel(data, feature):\n",
    "    \"\"\"\n",
    "        Создать многомерный вектор ответов\n",
    "\n",
    "        Arguments:\n",
    "            data, pandas.DataFrame: dataset with needed feature\n",
    "            feature_name, str: feature to make multilabel\n",
    "\n",
    "        Return:\n",
    "            y, numpy.array: multilabel targets for each value in dataset\n",
    "    \"\"\"\n",
    "    y = np.zeros((data.shape[0], 7))\n",
    "\n",
    "    for i in range(data.shape[0]):\n",
    "        value = data[feature].iloc[i]\n",
    "        y[i, value] = 1\n",
    "\n",
    "    return y"
   ]
  },
  {
   "cell_type": "code",
   "execution_count": 15,
   "metadata": {
    "collapsed": true
   },
   "outputs": [],
   "source": [
    "def getOneHotEncoding(data, columns):\n",
    "    \"\"\"\n",
    "        Применить к входным данным метод one-hot encoding\n",
    "\n",
    "        Arguments:\n",
    "            data, pd.DataFrame: original data\n",
    "            columns, list: columns to encoding\n",
    "\n",
    "        Return:\n",
    "            data, pd.DataFrame: data with encoded columns\n",
    "    \"\"\"\n",
    "    for col in columns:\n",
    "        data = pd.concat([data, pd.get_dummies(data[col], prefix=col)], axis=1)\n",
    "  \n",
    "    data.drop(columns, axis=1, inplace=True)\n",
    "\n",
    "    return data"
   ]
  },
  {
   "cell_type": "markdown",
   "metadata": {},
   "source": [
    "Создадим датасет входов *X*"
   ]
  },
  {
   "cell_type": "markdown",
   "metadata": {},
   "source": [
    "К категориальным признакам (возраст, образование и т.п.) применим метод **one_hot_encoding**, т.е. для каждого создадим новые *k* признаков, где *k* - кол-во значений, которые может принимать исходный признак. При этом для каждо строки один из этих новых признаков будет равен 1, в то время как остальные *k-1* будут равны 0."
   ]
  },
  {
   "cell_type": "markdown",
   "metadata": {},
   "source": [
    "Числовые признаки (\"Nscore\", \"Escore\", и т.д.) масштабируем к нормальному распределению со средним 0 и стандартным отклонением 1. Для этого используем метод *StandardScaler()* из модуля *preprocessing* библиотеки *sklearn*"
   ]
  },
  {
   "cell_type": "code",
   "execution_count": 16,
   "metadata": {
    "collapsed": false
   },
   "outputs": [
    {
     "data": {
      "text/html": [
       "<div>\n",
       "<style scoped>\n",
       "    .dataframe tbody tr th:only-of-type {\n",
       "        vertical-align: middle;\n",
       "    }\n",
       "\n",
       "    .dataframe tbody tr th {\n",
       "        vertical-align: top;\n",
       "    }\n",
       "\n",
       "    .dataframe thead th {\n",
       "        text-align: right;\n",
       "    }\n",
       "</style>\n",
       "<table border=\"1\" class=\"dataframe\">\n",
       "  <thead>\n",
       "    <tr style=\"text-align: right;\">\n",
       "      <th></th>\n",
       "      <th>ID</th>\n",
       "      <th>Nscore</th>\n",
       "      <th>Escore</th>\n",
       "      <th>Oscore</th>\n",
       "      <th>Ascore</th>\n",
       "      <th>Cscore</th>\n",
       "      <th>Impulsive</th>\n",
       "      <th>SS</th>\n",
       "      <th>Age_18-24</th>\n",
       "      <th>Age_25-34</th>\n",
       "      <th>...</th>\n",
       "      <th>Education_Master degree</th>\n",
       "      <th>Education_University degree</th>\n",
       "      <th>Education_University/college</th>\n",
       "      <th>Country_Other</th>\n",
       "      <th>Country_UK</th>\n",
       "      <th>Country_USA</th>\n",
       "      <th>Ethnicity_Other</th>\n",
       "      <th>Ethnicity_White</th>\n",
       "      <th>Gender_Female</th>\n",
       "      <th>Gender_Male</th>\n",
       "    </tr>\n",
       "  </thead>\n",
       "  <tbody>\n",
       "    <tr>\n",
       "      <th>0</th>\n",
       "      <td>1</td>\n",
       "      <td>0.337059</td>\n",
       "      <td>-0.528234</td>\n",
       "      <td>-0.571966</td>\n",
       "      <td>-0.911428</td>\n",
       "      <td>0.080816</td>\n",
       "      <td>1.303400</td>\n",
       "      <td>-1.192420</td>\n",
       "      <td>0</td>\n",
       "      <td>0</td>\n",
       "      <td>...</td>\n",
       "      <td>0</td>\n",
       "      <td>0</td>\n",
       "      <td>0</td>\n",
       "      <td>0</td>\n",
       "      <td>1</td>\n",
       "      <td>0</td>\n",
       "      <td>1</td>\n",
       "      <td>0</td>\n",
       "      <td>1</td>\n",
       "      <td>0</td>\n",
       "    </tr>\n",
       "    <tr>\n",
       "      <th>1</th>\n",
       "      <td>2</td>\n",
       "      <td>-0.757818</td>\n",
       "      <td>1.835144</td>\n",
       "      <td>1.404350</td>\n",
       "      <td>0.797602</td>\n",
       "      <td>-0.062764</td>\n",
       "      <td>0.678848</td>\n",
       "      <td>0.614215</td>\n",
       "      <td>0</td>\n",
       "      <td>1</td>\n",
       "      <td>...</td>\n",
       "      <td>0</td>\n",
       "      <td>0</td>\n",
       "      <td>0</td>\n",
       "      <td>0</td>\n",
       "      <td>1</td>\n",
       "      <td>0</td>\n",
       "      <td>0</td>\n",
       "      <td>1</td>\n",
       "      <td>0</td>\n",
       "      <td>1</td>\n",
       "    </tr>\n",
       "    <tr>\n",
       "      <th>2</th>\n",
       "      <td>3</td>\n",
       "      <td>-0.538842</td>\n",
       "      <td>0.801166</td>\n",
       "      <td>-0.876015</td>\n",
       "      <td>-1.688260</td>\n",
       "      <td>-1.067821</td>\n",
       "      <td>0.275492</td>\n",
       "      <td>1.130396</td>\n",
       "      <td>0</td>\n",
       "      <td>0</td>\n",
       "      <td>...</td>\n",
       "      <td>0</td>\n",
       "      <td>0</td>\n",
       "      <td>0</td>\n",
       "      <td>0</td>\n",
       "      <td>1</td>\n",
       "      <td>0</td>\n",
       "      <td>0</td>\n",
       "      <td>1</td>\n",
       "      <td>0</td>\n",
       "      <td>1</td>\n",
       "    </tr>\n",
       "    <tr>\n",
       "      <th>3</th>\n",
       "      <td>4</td>\n",
       "      <td>-0.210379</td>\n",
       "      <td>-0.823656</td>\n",
       "      <td>0.036131</td>\n",
       "      <td>0.642236</td>\n",
       "      <td>0.655134</td>\n",
       "      <td>0.275492</td>\n",
       "      <td>-1.192420</td>\n",
       "      <td>1</td>\n",
       "      <td>0</td>\n",
       "      <td>...</td>\n",
       "      <td>1</td>\n",
       "      <td>0</td>\n",
       "      <td>0</td>\n",
       "      <td>0</td>\n",
       "      <td>1</td>\n",
       "      <td>0</td>\n",
       "      <td>0</td>\n",
       "      <td>1</td>\n",
       "      <td>1</td>\n",
       "      <td>0</td>\n",
       "    </tr>\n",
       "    <tr>\n",
       "      <th>4</th>\n",
       "      <td>5</td>\n",
       "      <td>0.775010</td>\n",
       "      <td>-1.709922</td>\n",
       "      <td>-0.419942</td>\n",
       "      <td>-0.289962</td>\n",
       "      <td>1.229453</td>\n",
       "      <td>1.303400</td>\n",
       "      <td>0.614215</td>\n",
       "      <td>0</td>\n",
       "      <td>0</td>\n",
       "      <td>...</td>\n",
       "      <td>0</td>\n",
       "      <td>0</td>\n",
       "      <td>0</td>\n",
       "      <td>0</td>\n",
       "      <td>1</td>\n",
       "      <td>0</td>\n",
       "      <td>0</td>\n",
       "      <td>1</td>\n",
       "      <td>1</td>\n",
       "      <td>0</td>\n",
       "    </tr>\n",
       "  </tbody>\n",
       "</table>\n",
       "<p>5 rows × 30 columns</p>\n",
       "</div>"
      ],
      "text/plain": [
       "   ID    Nscore    Escore    Oscore    Ascore    Cscore  Impulsive        SS  \\\n",
       "0   1  0.337059 -0.528234 -0.571966 -0.911428  0.080816   1.303400 -1.192420   \n",
       "1   2 -0.757818  1.835144  1.404350  0.797602 -0.062764   0.678848  0.614215   \n",
       "2   3 -0.538842  0.801166 -0.876015 -1.688260 -1.067821   0.275492  1.130396   \n",
       "3   4 -0.210379 -0.823656  0.036131  0.642236  0.655134   0.275492 -1.192420   \n",
       "4   5  0.775010 -1.709922 -0.419942 -0.289962  1.229453   1.303400  0.614215   \n",
       "\n",
       "   Age_18-24  Age_25-34     ...       Education_Master degree  \\\n",
       "0          0          0     ...                             0   \n",
       "1          0          1     ...                             0   \n",
       "2          0          0     ...                             0   \n",
       "3          1          0     ...                             1   \n",
       "4          0          0     ...                             0   \n",
       "\n",
       "   Education_University degree  Education_University/college  Country_Other  \\\n",
       "0                            0                             0              0   \n",
       "1                            0                             0              0   \n",
       "2                            0                             0              0   \n",
       "3                            0                             0              0   \n",
       "4                            0                             0              0   \n",
       "\n",
       "   Country_UK  Country_USA  Ethnicity_Other  Ethnicity_White  Gender_Female  \\\n",
       "0           1            0                1                0              1   \n",
       "1           1            0                0                1              0   \n",
       "2           1            0                0                1              0   \n",
       "3           1            0                0                1              1   \n",
       "4           1            0                0                1              1   \n",
       "\n",
       "   Gender_Male  \n",
       "0            0  \n",
       "1            1  \n",
       "2            1  \n",
       "3            0  \n",
       "4            0  \n",
       "\n",
       "[5 rows x 30 columns]"
      ]
     },
     "execution_count": 16,
     "metadata": {},
     "output_type": "execute_result"
    }
   ],
   "source": [
    "drugsList = ['Amphet', 'Amyl', 'Benzos', 'Cannabis', 'Coke', 'Crack', 'Ecstasy', 'Heroin', \n",
    "             'Ketamine', 'Legalh', 'LSD', 'Meth', 'Mushrooms', 'VSA']\n",
    "haracterColumns.append('Gender')\n",
    "numericColumns = ['Nscore', 'Escore', 'Oscore', 'Ascore', 'Cscore', 'Impulsive', 'SS']\n",
    "\n",
    "X = data.drop(drugsList, axis=1)\n",
    "X = getOneHotEncoding(X, haracterColumns)\n",
    "X[numericColumns] = StandardScaler().fit_transform(X[numericColumns])\n",
    "\n",
    "X.head()"
   ]
  },
  {
   "cell_type": "markdown",
   "metadata": {},
   "source": [
    "Для каждого вещества из *drugsList* cоздадим вектор (multilabel) выходов *y*, разделим исходные данные на тренировочную (train) и тестовую (test) выборки. Поскольку набор данных у нас совсем небольшой, для начала в тестовую выборку выделим 10%"
   ]
  },
  {
   "cell_type": "markdown",
   "metadata": {},
   "source": [
    "Далее для каждого вещества создадим и обучим по 3 модели классификации: *дерево решений* (*DecisionTreeClassifier*), *случайный лес* (*RandomForestClassifier*) и *К ближайших соседей* (*KNeighborsClassifier*)"
   ]
  },
  {
   "cell_type": "markdown",
   "metadata": {},
   "source": [
    "Для каждой модели рассчитаем *чувствительность* (*sensitivity*) - истинно положительная пропорция, т.е. доля положительных результатов, которые правильно идентифицированы, и *специфичность* (*specificity*) - истинно отрицательная пропорция, т.е. отражает долю отрицательных результатов, которые правильно идентифицированы "
   ]
  },
  {
   "cell_type": "markdown",
   "metadata": {},
   "source": [
    "$$sens = \\frac{tp}{tp + fn}$$"
   ]
  },
  {
   "cell_type": "markdown",
   "metadata": {},
   "source": [
    "$$spec = \\frac{tn}{tn + fp}$$"
   ]
  },
  {
   "cell_type": "markdown",
   "metadata": {},
   "source": [
    "где *tp*  = *true positive*, *fn* = *false negative*, *tn* = *true negative*, *fp* = *false negative*"
   ]
  },
  {
   "cell_type": "code",
   "execution_count": 17,
   "metadata": {
    "collapsed": true
   },
   "outputs": [],
   "source": [
    "sensList = []\n",
    "specList = []\n",
    "\n",
    "for _drug in drugsList:\n",
    "    y = getMultilabel(data, _drug)\n",
    "    X_train, X_test, y_train, y_test = train_test_split(X, y, test_size=0.1, random_state=15)\n",
    "\n",
    "    tree = DecisionTreeClassifier(random_state=17)\n",
    "    rf = RandomForestClassifier(random_state=17)\n",
    "    knn = KNeighborsClassifier()\n",
    "\n",
    "    models = [tree, rf, knn]\n",
    "\n",
    "    _sens = []\n",
    "    _spec = []\n",
    "\n",
    "    for model in models:\n",
    "        model.fit(X_train, y_train)\n",
    "        preds = model.predict(X_test)\n",
    "\n",
    "        _sensitivity = recall_score(y_test, preds, average='micro')\n",
    "        _specificity = recall_score((y_test == 0).astype(int), (preds == 0).astype(int), average='micro')\n",
    "\n",
    "        _sens.append(_sensitivity)\n",
    "        _spec.append(_specificity)\n",
    "\n",
    "    sensList.append(_sens)\n",
    "    specList .append(_spec)\n",
    "\n",
    "sensList = np.array(sensList)\n",
    "specList = np.array(specList)"
   ]
  },
  {
   "cell_type": "code",
   "execution_count": 18,
   "metadata": {
    "collapsed": true
   },
   "outputs": [],
   "source": [
    "sensDict = {'Decision Tree': sensList[:, 0],\n",
    "            'Random Forest': sensList[:, 1],\n",
    "            'kNN': sensList[:, 2]}\n",
    "\n",
    "multilabel_sens_res = pd.DataFrame(data=sensDict, index=drugsList)\n",
    "\n",
    "specDict = {'Decision Tree': specList[:, 0],\n",
    "            'Random Forest': specList[:, 1],\n",
    "            'kNN': specList[:, 2]}\n",
    "\n",
    "multilabel_spec_res = pd.DataFrame(data=specDict, index=drugsList)"
   ]
  },
  {
   "cell_type": "code",
   "execution_count": 19,
   "metadata": {
    "collapsed": false
   },
   "outputs": [
    {
     "data": {
      "text/html": [
       "<div>\n",
       "<style scoped>\n",
       "    .dataframe tbody tr th:only-of-type {\n",
       "        vertical-align: middle;\n",
       "    }\n",
       "\n",
       "    .dataframe tbody tr th {\n",
       "        vertical-align: top;\n",
       "    }\n",
       "\n",
       "    .dataframe thead th {\n",
       "        text-align: right;\n",
       "    }\n",
       "</style>\n",
       "<table border=\"1\" class=\"dataframe\">\n",
       "  <thead>\n",
       "    <tr style=\"text-align: right;\">\n",
       "      <th></th>\n",
       "      <th>Decision Tree</th>\n",
       "      <th>Random Forest</th>\n",
       "      <th>kNN</th>\n",
       "    </tr>\n",
       "  </thead>\n",
       "  <tbody>\n",
       "    <tr>\n",
       "      <th>Amphet</th>\n",
       "      <td>0.338624</td>\n",
       "      <td>0.285714</td>\n",
       "      <td>0.317460</td>\n",
       "    </tr>\n",
       "    <tr>\n",
       "      <th>Amyl</th>\n",
       "      <td>0.486772</td>\n",
       "      <td>0.523810</td>\n",
       "      <td>0.571429</td>\n",
       "    </tr>\n",
       "    <tr>\n",
       "      <th>Benzos</th>\n",
       "      <td>0.417989</td>\n",
       "      <td>0.349206</td>\n",
       "      <td>0.370370</td>\n",
       "    </tr>\n",
       "    <tr>\n",
       "      <th>Cannabis</th>\n",
       "      <td>0.275132</td>\n",
       "      <td>0.095238</td>\n",
       "      <td>0.116402</td>\n",
       "    </tr>\n",
       "    <tr>\n",
       "      <th>Coke</th>\n",
       "      <td>0.396825</td>\n",
       "      <td>0.317460</td>\n",
       "      <td>0.349206</td>\n",
       "    </tr>\n",
       "    <tr>\n",
       "      <th>Crack</th>\n",
       "      <td>0.714286</td>\n",
       "      <td>0.788360</td>\n",
       "      <td>0.820106</td>\n",
       "    </tr>\n",
       "    <tr>\n",
       "      <th>Ecstasy</th>\n",
       "      <td>0.412698</td>\n",
       "      <td>0.338624</td>\n",
       "      <td>0.365079</td>\n",
       "    </tr>\n",
       "    <tr>\n",
       "      <th>Heroin</th>\n",
       "      <td>0.746032</td>\n",
       "      <td>0.756614</td>\n",
       "      <td>0.814815</td>\n",
       "    </tr>\n",
       "    <tr>\n",
       "      <th>Ketamine</th>\n",
       "      <td>0.619048</td>\n",
       "      <td>0.671958</td>\n",
       "      <td>0.671958</td>\n",
       "    </tr>\n",
       "    <tr>\n",
       "      <th>Legalh</th>\n",
       "      <td>0.555556</td>\n",
       "      <td>0.455026</td>\n",
       "      <td>0.465608</td>\n",
       "    </tr>\n",
       "    <tr>\n",
       "      <th>LSD</th>\n",
       "      <td>0.470899</td>\n",
       "      <td>0.391534</td>\n",
       "      <td>0.428571</td>\n",
       "    </tr>\n",
       "    <tr>\n",
       "      <th>Meth</th>\n",
       "      <td>0.624339</td>\n",
       "      <td>0.666667</td>\n",
       "      <td>0.656085</td>\n",
       "    </tr>\n",
       "    <tr>\n",
       "      <th>Mushrooms</th>\n",
       "      <td>0.476190</td>\n",
       "      <td>0.338624</td>\n",
       "      <td>0.402116</td>\n",
       "    </tr>\n",
       "    <tr>\n",
       "      <th>VSA</th>\n",
       "      <td>0.613757</td>\n",
       "      <td>0.682540</td>\n",
       "      <td>0.708995</td>\n",
       "    </tr>\n",
       "  </tbody>\n",
       "</table>\n",
       "</div>"
      ],
      "text/plain": [
       "           Decision Tree  Random Forest       kNN\n",
       "Amphet          0.338624       0.285714  0.317460\n",
       "Amyl            0.486772       0.523810  0.571429\n",
       "Benzos          0.417989       0.349206  0.370370\n",
       "Cannabis        0.275132       0.095238  0.116402\n",
       "Coke            0.396825       0.317460  0.349206\n",
       "Crack           0.714286       0.788360  0.820106\n",
       "Ecstasy         0.412698       0.338624  0.365079\n",
       "Heroin          0.746032       0.756614  0.814815\n",
       "Ketamine        0.619048       0.671958  0.671958\n",
       "Legalh          0.555556       0.455026  0.465608\n",
       "LSD             0.470899       0.391534  0.428571\n",
       "Meth            0.624339       0.666667  0.656085\n",
       "Mushrooms       0.476190       0.338624  0.402116\n",
       "VSA             0.613757       0.682540  0.708995"
      ]
     },
     "execution_count": 19,
     "metadata": {},
     "output_type": "execute_result"
    }
   ],
   "source": [
    "multilabel_sens_res"
   ]
  },
  {
   "cell_type": "code",
   "execution_count": 20,
   "metadata": {
    "collapsed": false
   },
   "outputs": [
    {
     "data": {
      "text/html": [
       "<div>\n",
       "<style scoped>\n",
       "    .dataframe tbody tr th:only-of-type {\n",
       "        vertical-align: middle;\n",
       "    }\n",
       "\n",
       "    .dataframe tbody tr th {\n",
       "        vertical-align: top;\n",
       "    }\n",
       "\n",
       "    .dataframe thead th {\n",
       "        text-align: right;\n",
       "    }\n",
       "</style>\n",
       "<table border=\"1\" class=\"dataframe\">\n",
       "  <thead>\n",
       "    <tr style=\"text-align: right;\">\n",
       "      <th></th>\n",
       "      <th>Decision Tree</th>\n",
       "      <th>Random Forest</th>\n",
       "      <th>kNN</th>\n",
       "    </tr>\n",
       "  </thead>\n",
       "  <tbody>\n",
       "    <tr>\n",
       "      <th>Amphet</th>\n",
       "      <td>0.889771</td>\n",
       "      <td>0.969136</td>\n",
       "      <td>0.948854</td>\n",
       "    </tr>\n",
       "    <tr>\n",
       "      <th>Amyl</th>\n",
       "      <td>0.914462</td>\n",
       "      <td>0.963845</td>\n",
       "      <td>0.947090</td>\n",
       "    </tr>\n",
       "    <tr>\n",
       "      <th>Benzos</th>\n",
       "      <td>0.902998</td>\n",
       "      <td>0.974427</td>\n",
       "      <td>0.945326</td>\n",
       "    </tr>\n",
       "    <tr>\n",
       "      <th>Cannabis</th>\n",
       "      <td>0.879189</td>\n",
       "      <td>0.984127</td>\n",
       "      <td>0.945326</td>\n",
       "    </tr>\n",
       "    <tr>\n",
       "      <th>Coke</th>\n",
       "      <td>0.899471</td>\n",
       "      <td>0.968254</td>\n",
       "      <td>0.947972</td>\n",
       "    </tr>\n",
       "    <tr>\n",
       "      <th>Crack</th>\n",
       "      <td>0.952381</td>\n",
       "      <td>0.974427</td>\n",
       "      <td>0.976190</td>\n",
       "    </tr>\n",
       "    <tr>\n",
       "      <th>Ecstasy</th>\n",
       "      <td>0.902116</td>\n",
       "      <td>0.975309</td>\n",
       "      <td>0.947090</td>\n",
       "    </tr>\n",
       "    <tr>\n",
       "      <th>Heroin</th>\n",
       "      <td>0.957672</td>\n",
       "      <td>0.979718</td>\n",
       "      <td>0.975309</td>\n",
       "    </tr>\n",
       "    <tr>\n",
       "      <th>Ketamine</th>\n",
       "      <td>0.936508</td>\n",
       "      <td>0.970018</td>\n",
       "      <td>0.966490</td>\n",
       "    </tr>\n",
       "    <tr>\n",
       "      <th>Legalh</th>\n",
       "      <td>0.925926</td>\n",
       "      <td>0.979718</td>\n",
       "      <td>0.962963</td>\n",
       "    </tr>\n",
       "    <tr>\n",
       "      <th>LSD</th>\n",
       "      <td>0.911817</td>\n",
       "      <td>0.969136</td>\n",
       "      <td>0.958554</td>\n",
       "    </tr>\n",
       "    <tr>\n",
       "      <th>Meth</th>\n",
       "      <td>0.937390</td>\n",
       "      <td>0.969136</td>\n",
       "      <td>0.962963</td>\n",
       "    </tr>\n",
       "    <tr>\n",
       "      <th>Mushrooms</th>\n",
       "      <td>0.912698</td>\n",
       "      <td>0.976190</td>\n",
       "      <td>0.956790</td>\n",
       "    </tr>\n",
       "    <tr>\n",
       "      <th>VSA</th>\n",
       "      <td>0.935626</td>\n",
       "      <td>0.969136</td>\n",
       "      <td>0.964727</td>\n",
       "    </tr>\n",
       "  </tbody>\n",
       "</table>\n",
       "</div>"
      ],
      "text/plain": [
       "           Decision Tree  Random Forest       kNN\n",
       "Amphet          0.889771       0.969136  0.948854\n",
       "Amyl            0.914462       0.963845  0.947090\n",
       "Benzos          0.902998       0.974427  0.945326\n",
       "Cannabis        0.879189       0.984127  0.945326\n",
       "Coke            0.899471       0.968254  0.947972\n",
       "Crack           0.952381       0.974427  0.976190\n",
       "Ecstasy         0.902116       0.975309  0.947090\n",
       "Heroin          0.957672       0.979718  0.975309\n",
       "Ketamine        0.936508       0.970018  0.966490\n",
       "Legalh          0.925926       0.979718  0.962963\n",
       "LSD             0.911817       0.969136  0.958554\n",
       "Meth            0.937390       0.969136  0.962963\n",
       "Mushrooms       0.912698       0.976190  0.956790\n",
       "VSA             0.935626       0.969136  0.964727"
      ]
     },
     "execution_count": 20,
     "metadata": {},
     "output_type": "execute_result"
    }
   ],
   "source": [
    "multilabel_spec_res"
   ]
  },
  {
   "cell_type": "markdown",
   "metadata": {},
   "source": [
    "как можем видеть, результаты, в большинстве случаев, не впечатляют! Вероятнее всего это связано с недостаточным набором данных для качественного обучения моделей. На самом послднем этапе предлагается провести более детальный анализ для какого-нибудь одного вещества, применив, в т.ч. кросс-валидацию. Пока что перейдем к бинарной классификации "
   ]
  },
  {
   "cell_type": "markdown",
   "metadata": {},
   "source": [
    "## Binary classification"
   ]
  },
  {
   "cell_type": "markdown",
   "metadata": {},
   "source": [
    "Здесь по сути будем делать то же самое что и на предыдущем этапе. с той лишь разницей, семь целевых классов скомпонуем в два. Предлагается сделать это несколькими способами и посмотреть, для каких случаев метрики качества покажут наилучшие результаты"
   ]
  },
  {
   "cell_type": "markdown",
   "metadata": {},
   "source": [
    "К уже имеющимся трем моделям обучения добавим к рассмотрению *логистическую регрессию* (*LogisticRegression*)"
   ]
  },
  {
   "cell_type": "code",
   "execution_count": 21,
   "metadata": {
    "collapsed": true
   },
   "outputs": [],
   "source": [
    "def plotCatHists(data, features):\n",
    "    \"\"\"\n",
    "        Гистограммы распередления целевого признака по категориальным признакам\n",
    "\n",
    "        Arguments:\n",
    "            data, pandas.DataFrame: dataset for plotting\n",
    "            features, list: features required for plotting\n",
    "    \"\"\"\n",
    "    fig, axs = plt.subplots(nrows=5, ncols=3, figsize=(15, 15))\n",
    "    plt.subplots_adjust(right=1, top=1)\n",
    "\n",
    "    for i, _feature in enumerate(features, 1):\n",
    "        plt.subplot(4, 4, i)\n",
    "        sns.countplot(x=_feature, data=data, hue=_feature)\n",
    "        plt.legend(['Non-users', 'Users'])\n",
    "        plt.xlabel(str(_feature))\n",
    "        \n",
    "    plt.show()"
   ]
  },
  {
   "cell_type": "code",
   "execution_count": 22,
   "metadata": {
    "collapsed": true
   },
   "outputs": [],
   "source": [
    "def calcModels(data, targets):\n",
    "    \"\"\"\n",
    "        Создание и обучение моделей, вывод результатов (чувствительность, специфичность)\n",
    "\n",
    "        Arguments:\n",
    "            data, pandas.DataFrame: dataset for training\n",
    "            targets, list: list of target features\n",
    "\n",
    "        Return:\n",
    "            results, list: lists of dataframes with results of training\n",
    "    \"\"\"\n",
    "    haracterColumns = ['Age', 'Gender', 'Education', 'Country', 'Ethnicity']\n",
    "    numericColumns = ['Nscore', 'Escore', 'Oscore', 'Ascore', 'Cscore', 'Impulsive', 'SS']\n",
    "    \n",
    "    X = data.drop(targets, axis=1)\n",
    "    X = getOneHotEncoding(X, haracterColumns)\n",
    "    X[numericColumns] = StandardScaler().fit_transform(X[numericColumns])\n",
    "\n",
    "    sensList = []\n",
    "    specList = []\n",
    "\n",
    "    for _target in targets:\n",
    "        y = data[_target]\n",
    "        X_train, X_test, y_train, y_test = train_test_split(X, y, test_size=0.1, random_state=17)\n",
    "\n",
    "        tree = DecisionTreeClassifier(random_state=17)\n",
    "        rf = RandomForestClassifier(random_state=17)\n",
    "        knn = KNeighborsClassifier()\n",
    "        lr = LogisticRegression(random_state=17)\n",
    "\n",
    "        models = [tree, rf, knn, lr]\n",
    "\n",
    "        _sens = []\n",
    "        _spec = []\n",
    "\n",
    "        for _model in models:\n",
    "            _model.fit(X_train, y_train)\n",
    "      \n",
    "            _sensitivity = recall_score(y_test, _model.predict(X_test))\n",
    "            _specificity = recall_score(y_test, _model.predict(X_test), pos_label=0)\n",
    "      \n",
    "            _sens.append(_sensitivity)\n",
    "            _spec.append(_specificity)\n",
    "\n",
    "        sensList.append(_sens)\n",
    "        specList.append(_spec)\n",
    "\n",
    "    sensList = np.array(sensList)\n",
    "    specList = np.array(specList)\n",
    "  \n",
    "    sensDict = {'Decision Tree': sensList[:, 0],\n",
    "                'Random Forest': sensList[:, 1],\n",
    "                'kNN': sensList[:, 2],\n",
    "                'Logistic Regression': sensList[:, 3]}\n",
    "\n",
    "    multilabel_sens_res = pd.DataFrame(data=sensDict, index=targets)\n",
    "\n",
    "    specDict = {'Decision Tree': specList[:, 0],\n",
    "                'Random Forest': specList[:, 1],\n",
    "                'kNN': specList[:, 2],\n",
    "                'Logistic Regression': specList[:, 3]}\n",
    "\n",
    "    multilabel_spec_res = pd.DataFrame(data=specDict, index=targets)\n",
    "\n",
    "    results = [multilabel_sens_res, multilabel_spec_res]\n",
    "    \n",
    "    return results"
   ]
  },
  {
   "cell_type": "markdown",
   "metadata": {},
   "source": [
    "#### 1. Декада (10 лет)"
   ]
  },
  {
   "cell_type": "markdown",
   "metadata": {},
   "source": [
    "Категории \"Never used\" и \"Used over a decade ago\" объединяем в класс \"Не употреблял\", все остальные объединяются в класс \"Употреблял\". Иными словами, в этой выборке рассматриваем людей, которые употребляли сильные вещества хотя бы раз за последние 10 лет.  "
   ]
  },
  {
   "cell_type": "code",
   "execution_count": 23,
   "metadata": {
    "collapsed": true
   },
   "outputs": [],
   "source": [
    "data_decade = data.copy()\n",
    "data_decade.replace([0, 1], 0, inplace=True)\n",
    "data_decade.replace([2, 3, 4, 5, 6], 1, inplace=True)"
   ]
  },
  {
   "cell_type": "code",
   "execution_count": 24,
   "metadata": {
    "collapsed": false
   },
   "outputs": [
    {
     "data": {
      "image/png": "[encoded data removed]",
      "text/plain": [
       "<Figure size 1080x1080 with 15 Axes>"
      ]
     },
     "metadata": {},
     "output_type": "display_data"
    }
   ],
   "source": [
    "plotCatHists(data_decade, drugsList)"
   ]
  },
  {
   "cell_type": "code",
   "execution_count": 25,
   "metadata": {
    "collapsed": true
   },
   "outputs": [],
   "source": [
    "results_decade = calcModels(data_decade, drugsList)"
   ]
  },
  {
   "cell_type": "code",
   "execution_count": 26,
   "metadata": {
    "collapsed": false
   },
   "outputs": [
    {
     "data": {
      "text/html": [
       "<div>\n",
       "<style scoped>\n",
       "    .dataframe tbody tr th:only-of-type {\n",
       "        vertical-align: middle;\n",
       "    }\n",
       "\n",
       "    .dataframe tbody tr th {\n",
       "        vertical-align: top;\n",
       "    }\n",
       "\n",
       "    .dataframe thead th {\n",
       "        text-align: right;\n",
       "    }\n",
       "</style>\n",
       "<table border=\"1\" class=\"dataframe\">\n",
       "  <thead>\n",
       "    <tr style=\"text-align: right;\">\n",
       "      <th></th>\n",
       "      <th>Decision Tree</th>\n",
       "      <th>Random Forest</th>\n",
       "      <th>kNN</th>\n",
       "      <th>Logistic Regression</th>\n",
       "    </tr>\n",
       "  </thead>\n",
       "  <tbody>\n",
       "    <tr>\n",
       "      <th>Amphet</th>\n",
       "      <td>0.414286</td>\n",
       "      <td>0.514286</td>\n",
       "      <td>0.614286</td>\n",
       "      <td>0.542857</td>\n",
       "    </tr>\n",
       "    <tr>\n",
       "      <th>Amyl</th>\n",
       "      <td>0.263158</td>\n",
       "      <td>0.157895</td>\n",
       "      <td>0.157895</td>\n",
       "      <td>0.078947</td>\n",
       "    </tr>\n",
       "    <tr>\n",
       "      <th>Benzos</th>\n",
       "      <td>0.453333</td>\n",
       "      <td>0.466667</td>\n",
       "      <td>0.560000</td>\n",
       "      <td>0.560000</td>\n",
       "    </tr>\n",
       "    <tr>\n",
       "      <th>Cannabis</th>\n",
       "      <td>0.800000</td>\n",
       "      <td>0.846154</td>\n",
       "      <td>0.861538</td>\n",
       "      <td>0.861538</td>\n",
       "    </tr>\n",
       "    <tr>\n",
       "      <th>Coke</th>\n",
       "      <td>0.373333</td>\n",
       "      <td>0.413333</td>\n",
       "      <td>0.440000</td>\n",
       "      <td>0.506667</td>\n",
       "    </tr>\n",
       "    <tr>\n",
       "      <th>Crack</th>\n",
       "      <td>0.320000</td>\n",
       "      <td>0.000000</td>\n",
       "      <td>0.000000</td>\n",
       "      <td>0.000000</td>\n",
       "    </tr>\n",
       "    <tr>\n",
       "      <th>Ecstasy</th>\n",
       "      <td>0.554217</td>\n",
       "      <td>0.566265</td>\n",
       "      <td>0.445783</td>\n",
       "      <td>0.602410</td>\n",
       "    </tr>\n",
       "    <tr>\n",
       "      <th>Heroin</th>\n",
       "      <td>0.263158</td>\n",
       "      <td>0.052632</td>\n",
       "      <td>0.000000</td>\n",
       "      <td>0.052632</td>\n",
       "    </tr>\n",
       "    <tr>\n",
       "      <th>Ketamine</th>\n",
       "      <td>0.292683</td>\n",
       "      <td>0.146341</td>\n",
       "      <td>0.097561</td>\n",
       "      <td>0.073171</td>\n",
       "    </tr>\n",
       "    <tr>\n",
       "      <th>Legalh</th>\n",
       "      <td>0.630952</td>\n",
       "      <td>0.678571</td>\n",
       "      <td>0.702381</td>\n",
       "      <td>0.702381</td>\n",
       "    </tr>\n",
       "    <tr>\n",
       "      <th>LSD</th>\n",
       "      <td>0.509804</td>\n",
       "      <td>0.588235</td>\n",
       "      <td>0.588235</td>\n",
       "      <td>0.705882</td>\n",
       "    </tr>\n",
       "    <tr>\n",
       "      <th>Meth</th>\n",
       "      <td>0.521739</td>\n",
       "      <td>0.413043</td>\n",
       "      <td>0.347826</td>\n",
       "      <td>0.456522</td>\n",
       "    </tr>\n",
       "    <tr>\n",
       "      <th>Mushrooms</th>\n",
       "      <td>0.558824</td>\n",
       "      <td>0.558824</td>\n",
       "      <td>0.602941</td>\n",
       "      <td>0.661765</td>\n",
       "    </tr>\n",
       "    <tr>\n",
       "      <th>VSA</th>\n",
       "      <td>0.363636</td>\n",
       "      <td>0.181818</td>\n",
       "      <td>0.136364</td>\n",
       "      <td>0.090909</td>\n",
       "    </tr>\n",
       "  </tbody>\n",
       "</table>\n",
       "</div>"
      ],
      "text/plain": [
       "           Decision Tree  Random Forest       kNN  Logistic Regression\n",
       "Amphet          0.414286       0.514286  0.614286             0.542857\n",
       "Amyl            0.263158       0.157895  0.157895             0.078947\n",
       "Benzos          0.453333       0.466667  0.560000             0.560000\n",
       "Cannabis        0.800000       0.846154  0.861538             0.861538\n",
       "Coke            0.373333       0.413333  0.440000             0.506667\n",
       "Crack           0.320000       0.000000  0.000000             0.000000\n",
       "Ecstasy         0.554217       0.566265  0.445783             0.602410\n",
       "Heroin          0.263158       0.052632  0.000000             0.052632\n",
       "Ketamine        0.292683       0.146341  0.097561             0.073171\n",
       "Legalh          0.630952       0.678571  0.702381             0.702381\n",
       "LSD             0.509804       0.588235  0.588235             0.705882\n",
       "Meth            0.521739       0.413043  0.347826             0.456522\n",
       "Mushrooms       0.558824       0.558824  0.602941             0.661765\n",
       "VSA             0.363636       0.181818  0.136364             0.090909"
      ]
     },
     "execution_count": 26,
     "metadata": {},
     "output_type": "execute_result"
    }
   ],
   "source": [
    "# results by sensitivity\n",
    "results_decade[0]"
   ]
  },
  {
   "cell_type": "code",
   "execution_count": 27,
   "metadata": {
    "collapsed": false
   },
   "outputs": [
    {
     "data": {
      "text/html": [
       "<div>\n",
       "<style scoped>\n",
       "    .dataframe tbody tr th:only-of-type {\n",
       "        vertical-align: middle;\n",
       "    }\n",
       "\n",
       "    .dataframe tbody tr th {\n",
       "        vertical-align: top;\n",
       "    }\n",
       "\n",
       "    .dataframe thead th {\n",
       "        text-align: right;\n",
       "    }\n",
       "</style>\n",
       "<table border=\"1\" class=\"dataframe\">\n",
       "  <thead>\n",
       "    <tr style=\"text-align: right;\">\n",
       "      <th></th>\n",
       "      <th>Decision Tree</th>\n",
       "      <th>Random Forest</th>\n",
       "      <th>kNN</th>\n",
       "      <th>Logistic Regression</th>\n",
       "    </tr>\n",
       "  </thead>\n",
       "  <tbody>\n",
       "    <tr>\n",
       "      <th>Amphet</th>\n",
       "      <td>0.714286</td>\n",
       "      <td>0.823529</td>\n",
       "      <td>0.747899</td>\n",
       "      <td>0.798319</td>\n",
       "    </tr>\n",
       "    <tr>\n",
       "      <th>Amyl</th>\n",
       "      <td>0.807947</td>\n",
       "      <td>0.980132</td>\n",
       "      <td>0.940397</td>\n",
       "      <td>1.000000</td>\n",
       "    </tr>\n",
       "    <tr>\n",
       "      <th>Benzos</th>\n",
       "      <td>0.745614</td>\n",
       "      <td>0.850877</td>\n",
       "      <td>0.649123</td>\n",
       "      <td>0.780702</td>\n",
       "    </tr>\n",
       "    <tr>\n",
       "      <th>Cannabis</th>\n",
       "      <td>0.610169</td>\n",
       "      <td>0.711864</td>\n",
       "      <td>0.610169</td>\n",
       "      <td>0.677966</td>\n",
       "    </tr>\n",
       "    <tr>\n",
       "      <th>Coke</th>\n",
       "      <td>0.692982</td>\n",
       "      <td>0.859649</td>\n",
       "      <td>0.780702</td>\n",
       "      <td>0.842105</td>\n",
       "    </tr>\n",
       "    <tr>\n",
       "      <th>Crack</th>\n",
       "      <td>0.896341</td>\n",
       "      <td>1.000000</td>\n",
       "      <td>0.975610</td>\n",
       "      <td>1.000000</td>\n",
       "    </tr>\n",
       "    <tr>\n",
       "      <th>Ecstasy</th>\n",
       "      <td>0.660377</td>\n",
       "      <td>0.811321</td>\n",
       "      <td>0.716981</td>\n",
       "      <td>0.811321</td>\n",
       "    </tr>\n",
       "    <tr>\n",
       "      <th>Heroin</th>\n",
       "      <td>0.870588</td>\n",
       "      <td>0.988235</td>\n",
       "      <td>0.988235</td>\n",
       "      <td>0.994118</td>\n",
       "    </tr>\n",
       "    <tr>\n",
       "      <th>Ketamine</th>\n",
       "      <td>0.797297</td>\n",
       "      <td>0.979730</td>\n",
       "      <td>0.918919</td>\n",
       "      <td>0.979730</td>\n",
       "    </tr>\n",
       "    <tr>\n",
       "      <th>Legalh</th>\n",
       "      <td>0.790476</td>\n",
       "      <td>0.847619</td>\n",
       "      <td>0.752381</td>\n",
       "      <td>0.857143</td>\n",
       "    </tr>\n",
       "    <tr>\n",
       "      <th>LSD</th>\n",
       "      <td>0.840580</td>\n",
       "      <td>0.876812</td>\n",
       "      <td>0.818841</td>\n",
       "      <td>0.862319</td>\n",
       "    </tr>\n",
       "    <tr>\n",
       "      <th>Meth</th>\n",
       "      <td>0.832168</td>\n",
       "      <td>0.930070</td>\n",
       "      <td>0.930070</td>\n",
       "      <td>0.930070</td>\n",
       "    </tr>\n",
       "    <tr>\n",
       "      <th>Mushrooms</th>\n",
       "      <td>0.735537</td>\n",
       "      <td>0.851240</td>\n",
       "      <td>0.752066</td>\n",
       "      <td>0.826446</td>\n",
       "    </tr>\n",
       "    <tr>\n",
       "      <th>VSA</th>\n",
       "      <td>0.886228</td>\n",
       "      <td>0.982036</td>\n",
       "      <td>0.952096</td>\n",
       "      <td>0.988024</td>\n",
       "    </tr>\n",
       "  </tbody>\n",
       "</table>\n",
       "</div>"
      ],
      "text/plain": [
       "           Decision Tree  Random Forest       kNN  Logistic Regression\n",
       "Amphet          0.714286       0.823529  0.747899             0.798319\n",
       "Amyl            0.807947       0.980132  0.940397             1.000000\n",
       "Benzos          0.745614       0.850877  0.649123             0.780702\n",
       "Cannabis        0.610169       0.711864  0.610169             0.677966\n",
       "Coke            0.692982       0.859649  0.780702             0.842105\n",
       "Crack           0.896341       1.000000  0.975610             1.000000\n",
       "Ecstasy         0.660377       0.811321  0.716981             0.811321\n",
       "Heroin          0.870588       0.988235  0.988235             0.994118\n",
       "Ketamine        0.797297       0.979730  0.918919             0.979730\n",
       "Legalh          0.790476       0.847619  0.752381             0.857143\n",
       "LSD             0.840580       0.876812  0.818841             0.862319\n",
       "Meth            0.832168       0.930070  0.930070             0.930070\n",
       "Mushrooms       0.735537       0.851240  0.752066             0.826446\n",
       "VSA             0.886228       0.982036  0.952096             0.988024"
      ]
     },
     "execution_count": 27,
     "metadata": {},
     "output_type": "execute_result"
    }
   ],
   "source": [
    "# results by specificity\n",
    "results_decade[1]"
   ]
  },
  {
   "cell_type": "markdown",
   "metadata": {},
   "source": [
    "#### 2. 1 год"
   ]
  },
  {
   "cell_type": "markdown",
   "metadata": {},
   "source": [
    "\"Used in last decade\", \"Used over a decade ago\" и \"Never used\" -> \"Non-users\". Т.е. считаем употреблявшими тех, кто употреблял хоть раз за последний год"
   ]
  },
  {
   "cell_type": "code",
   "execution_count": 28,
   "metadata": {
    "collapsed": true
   },
   "outputs": [],
   "source": [
    "data_year = data.copy()\n",
    "data_year.replace([0, 1, 2], 0, inplace=True)\n",
    "data_year.replace([3, 4, 5, 6], 1, inplace=True)"
   ]
  },
  {
   "cell_type": "code",
   "execution_count": 29,
   "metadata": {
    "collapsed": false
   },
   "outputs": [
    {
     "data": {
      "image/png": "[encoded data removed]",
      "text/plain": [
       "<Figure size 1080x1080 with 15 Axes>"
      ]
     },
     "metadata": {},
     "output_type": "display_data"
    }
   ],
   "source": [
    "plotCatHists(data_year, drugsList)"
   ]
  },
  {
   "cell_type": "code",
   "execution_count": 30,
   "metadata": {
    "collapsed": true
   },
   "outputs": [],
   "source": [
    "results_year = calcModels(data_year, drugsList)"
   ]
  },
  {
   "cell_type": "code",
   "execution_count": 31,
   "metadata": {
    "collapsed": false
   },
   "outputs": [
    {
     "data": {
      "text/html": [
       "<div>\n",
       "<style scoped>\n",
       "    .dataframe tbody tr th:only-of-type {\n",
       "        vertical-align: middle;\n",
       "    }\n",
       "\n",
       "    .dataframe tbody tr th {\n",
       "        vertical-align: top;\n",
       "    }\n",
       "\n",
       "    .dataframe thead th {\n",
       "        text-align: right;\n",
       "    }\n",
       "</style>\n",
       "<table border=\"1\" class=\"dataframe\">\n",
       "  <thead>\n",
       "    <tr style=\"text-align: right;\">\n",
       "      <th></th>\n",
       "      <th>Decision Tree</th>\n",
       "      <th>Random Forest</th>\n",
       "      <th>kNN</th>\n",
       "      <th>Logistic Regression</th>\n",
       "    </tr>\n",
       "  </thead>\n",
       "  <tbody>\n",
       "    <tr>\n",
       "      <th>Amphet</th>\n",
       "      <td>0.500000</td>\n",
       "      <td>0.304348</td>\n",
       "      <td>0.369565</td>\n",
       "      <td>0.456522</td>\n",
       "    </tr>\n",
       "    <tr>\n",
       "      <th>Amyl</th>\n",
       "      <td>0.181818</td>\n",
       "      <td>0.000000</td>\n",
       "      <td>0.000000</td>\n",
       "      <td>0.000000</td>\n",
       "    </tr>\n",
       "    <tr>\n",
       "      <th>Benzos</th>\n",
       "      <td>0.442308</td>\n",
       "      <td>0.288462</td>\n",
       "      <td>0.346154</td>\n",
       "      <td>0.384615</td>\n",
       "    </tr>\n",
       "    <tr>\n",
       "      <th>Cannabis</th>\n",
       "      <td>0.696429</td>\n",
       "      <td>0.696429</td>\n",
       "      <td>0.812500</td>\n",
       "      <td>0.794643</td>\n",
       "    </tr>\n",
       "    <tr>\n",
       "      <th>Coke</th>\n",
       "      <td>0.346939</td>\n",
       "      <td>0.163265</td>\n",
       "      <td>0.163265</td>\n",
       "      <td>0.183673</td>\n",
       "    </tr>\n",
       "    <tr>\n",
       "      <th>Crack</th>\n",
       "      <td>0.066667</td>\n",
       "      <td>0.066667</td>\n",
       "      <td>0.000000</td>\n",
       "      <td>0.000000</td>\n",
       "    </tr>\n",
       "    <tr>\n",
       "      <th>Ecstasy</th>\n",
       "      <td>0.454545</td>\n",
       "      <td>0.309091</td>\n",
       "      <td>0.309091</td>\n",
       "      <td>0.490909</td>\n",
       "    </tr>\n",
       "    <tr>\n",
       "      <th>Heroin</th>\n",
       "      <td>0.125000</td>\n",
       "      <td>0.000000</td>\n",
       "      <td>0.000000</td>\n",
       "      <td>0.000000</td>\n",
       "    </tr>\n",
       "    <tr>\n",
       "      <th>Ketamine</th>\n",
       "      <td>0.173913</td>\n",
       "      <td>0.086957</td>\n",
       "      <td>0.000000</td>\n",
       "      <td>0.000000</td>\n",
       "    </tr>\n",
       "    <tr>\n",
       "      <th>Legalh</th>\n",
       "      <td>0.560606</td>\n",
       "      <td>0.439394</td>\n",
       "      <td>0.575758</td>\n",
       "      <td>0.530303</td>\n",
       "    </tr>\n",
       "    <tr>\n",
       "      <th>LSD</th>\n",
       "      <td>0.388889</td>\n",
       "      <td>0.500000</td>\n",
       "      <td>0.277778</td>\n",
       "      <td>0.611111</td>\n",
       "    </tr>\n",
       "    <tr>\n",
       "      <th>Meth</th>\n",
       "      <td>0.312500</td>\n",
       "      <td>0.250000</td>\n",
       "      <td>0.187500</td>\n",
       "      <td>0.312500</td>\n",
       "    </tr>\n",
       "    <tr>\n",
       "      <th>Mushrooms</th>\n",
       "      <td>0.511111</td>\n",
       "      <td>0.400000</td>\n",
       "      <td>0.333333</td>\n",
       "      <td>0.533333</td>\n",
       "    </tr>\n",
       "    <tr>\n",
       "      <th>VSA</th>\n",
       "      <td>0.166667</td>\n",
       "      <td>0.083333</td>\n",
       "      <td>0.083333</td>\n",
       "      <td>0.000000</td>\n",
       "    </tr>\n",
       "  </tbody>\n",
       "</table>\n",
       "</div>"
      ],
      "text/plain": [
       "           Decision Tree  Random Forest       kNN  Logistic Regression\n",
       "Amphet          0.500000       0.304348  0.369565             0.456522\n",
       "Amyl            0.181818       0.000000  0.000000             0.000000\n",
       "Benzos          0.442308       0.288462  0.346154             0.384615\n",
       "Cannabis        0.696429       0.696429  0.812500             0.794643\n",
       "Coke            0.346939       0.163265  0.163265             0.183673\n",
       "Crack           0.066667       0.066667  0.000000             0.000000\n",
       "Ecstasy         0.454545       0.309091  0.309091             0.490909\n",
       "Heroin          0.125000       0.000000  0.000000             0.000000\n",
       "Ketamine        0.173913       0.086957  0.000000             0.000000\n",
       "Legalh          0.560606       0.439394  0.575758             0.530303\n",
       "LSD             0.388889       0.500000  0.277778             0.611111\n",
       "Meth            0.312500       0.250000  0.187500             0.312500\n",
       "Mushrooms       0.511111       0.400000  0.333333             0.533333\n",
       "VSA             0.166667       0.083333  0.083333             0.000000"
      ]
     },
     "execution_count": 31,
     "metadata": {},
     "output_type": "execute_result"
    }
   ],
   "source": [
    "# results by sensitivity\n",
    "results_year[0]"
   ]
  },
  {
   "cell_type": "code",
   "execution_count": 32,
   "metadata": {
    "collapsed": false
   },
   "outputs": [
    {
     "data": {
      "text/html": [
       "<div>\n",
       "<style scoped>\n",
       "    .dataframe tbody tr th:only-of-type {\n",
       "        vertical-align: middle;\n",
       "    }\n",
       "\n",
       "    .dataframe tbody tr th {\n",
       "        vertical-align: top;\n",
       "    }\n",
       "\n",
       "    .dataframe thead th {\n",
       "        text-align: right;\n",
       "    }\n",
       "</style>\n",
       "<table border=\"1\" class=\"dataframe\">\n",
       "  <thead>\n",
       "    <tr style=\"text-align: right;\">\n",
       "      <th></th>\n",
       "      <th>Decision Tree</th>\n",
       "      <th>Random Forest</th>\n",
       "      <th>kNN</th>\n",
       "      <th>Logistic Regression</th>\n",
       "    </tr>\n",
       "  </thead>\n",
       "  <tbody>\n",
       "    <tr>\n",
       "      <th>Amphet</th>\n",
       "      <td>0.860140</td>\n",
       "      <td>0.944056</td>\n",
       "      <td>0.881119</td>\n",
       "      <td>0.923077</td>\n",
       "    </tr>\n",
       "    <tr>\n",
       "      <th>Amyl</th>\n",
       "      <td>0.893258</td>\n",
       "      <td>1.000000</td>\n",
       "      <td>0.994382</td>\n",
       "      <td>1.000000</td>\n",
       "    </tr>\n",
       "    <tr>\n",
       "      <th>Benzos</th>\n",
       "      <td>0.839416</td>\n",
       "      <td>0.861314</td>\n",
       "      <td>0.810219</td>\n",
       "      <td>0.854015</td>\n",
       "    </tr>\n",
       "    <tr>\n",
       "      <th>Cannabis</th>\n",
       "      <td>0.792208</td>\n",
       "      <td>0.844156</td>\n",
       "      <td>0.688312</td>\n",
       "      <td>0.857143</td>\n",
       "    </tr>\n",
       "    <tr>\n",
       "      <th>Coke</th>\n",
       "      <td>0.707143</td>\n",
       "      <td>0.957143</td>\n",
       "      <td>0.871429</td>\n",
       "      <td>0.971429</td>\n",
       "    </tr>\n",
       "    <tr>\n",
       "      <th>Crack</th>\n",
       "      <td>0.913793</td>\n",
       "      <td>0.994253</td>\n",
       "      <td>1.000000</td>\n",
       "      <td>1.000000</td>\n",
       "    </tr>\n",
       "    <tr>\n",
       "      <th>Ecstasy</th>\n",
       "      <td>0.791045</td>\n",
       "      <td>0.888060</td>\n",
       "      <td>0.828358</td>\n",
       "      <td>0.880597</td>\n",
       "    </tr>\n",
       "    <tr>\n",
       "      <th>Heroin</th>\n",
       "      <td>0.917127</td>\n",
       "      <td>1.000000</td>\n",
       "      <td>0.994475</td>\n",
       "      <td>1.000000</td>\n",
       "    </tr>\n",
       "    <tr>\n",
       "      <th>Ketamine</th>\n",
       "      <td>0.873494</td>\n",
       "      <td>1.000000</td>\n",
       "      <td>0.993976</td>\n",
       "      <td>1.000000</td>\n",
       "    </tr>\n",
       "    <tr>\n",
       "      <th>Legalh</th>\n",
       "      <td>0.837398</td>\n",
       "      <td>0.902439</td>\n",
       "      <td>0.845528</td>\n",
       "      <td>0.910569</td>\n",
       "    </tr>\n",
       "    <tr>\n",
       "      <th>LSD</th>\n",
       "      <td>0.797386</td>\n",
       "      <td>0.908497</td>\n",
       "      <td>0.895425</td>\n",
       "      <td>0.928105</td>\n",
       "    </tr>\n",
       "    <tr>\n",
       "      <th>Meth</th>\n",
       "      <td>0.834395</td>\n",
       "      <td>0.968153</td>\n",
       "      <td>0.955414</td>\n",
       "      <td>0.961783</td>\n",
       "    </tr>\n",
       "    <tr>\n",
       "      <th>Mushrooms</th>\n",
       "      <td>0.840278</td>\n",
       "      <td>0.909722</td>\n",
       "      <td>0.861111</td>\n",
       "      <td>0.888889</td>\n",
       "    </tr>\n",
       "    <tr>\n",
       "      <th>VSA</th>\n",
       "      <td>0.971751</td>\n",
       "      <td>1.000000</td>\n",
       "      <td>0.994350</td>\n",
       "      <td>1.000000</td>\n",
       "    </tr>\n",
       "  </tbody>\n",
       "</table>\n",
       "</div>"
      ],
      "text/plain": [
       "           Decision Tree  Random Forest       kNN  Logistic Regression\n",
       "Amphet          0.860140       0.944056  0.881119             0.923077\n",
       "Amyl            0.893258       1.000000  0.994382             1.000000\n",
       "Benzos          0.839416       0.861314  0.810219             0.854015\n",
       "Cannabis        0.792208       0.844156  0.688312             0.857143\n",
       "Coke            0.707143       0.957143  0.871429             0.971429\n",
       "Crack           0.913793       0.994253  1.000000             1.000000\n",
       "Ecstasy         0.791045       0.888060  0.828358             0.880597\n",
       "Heroin          0.917127       1.000000  0.994475             1.000000\n",
       "Ketamine        0.873494       1.000000  0.993976             1.000000\n",
       "Legalh          0.837398       0.902439  0.845528             0.910569\n",
       "LSD             0.797386       0.908497  0.895425             0.928105\n",
       "Meth            0.834395       0.968153  0.955414             0.961783\n",
       "Mushrooms       0.840278       0.909722  0.861111             0.888889\n",
       "VSA             0.971751       1.000000  0.994350             1.000000"
      ]
     },
     "execution_count": 32,
     "metadata": {},
     "output_type": "execute_result"
    }
   ],
   "source": [
    "# results by specificity\n",
    "results_year[1]"
   ]
  },
  {
   "cell_type": "markdown",
   "metadata": {},
   "source": [
    "#### 3. Месяц"
   ]
  },
  {
   "cell_type": "markdown",
   "metadata": {},
   "source": [
    "\"Used in last year\", \"Used in last decade\", \"Used over a decade ago\" и \"Never used\" -> \"Non-users\""
   ]
  },
  {
   "cell_type": "code",
   "execution_count": 33,
   "metadata": {
    "collapsed": true
   },
   "outputs": [],
   "source": [
    "data_month = data.copy()\n",
    "data_month.replace([0, 1, 2, 3], 0, inplace=True)\n",
    "data_month.replace([4, 5, 6], 1, inplace=True)"
   ]
  },
  {
   "cell_type": "code",
   "execution_count": 34,
   "metadata": {
    "collapsed": false
   },
   "outputs": [
    {
     "data": {
      "image/png": "[encoded data removed]",
      "text/plain": [
       "<Figure size 1080x1080 with 15 Axes>"
      ]
     },
     "metadata": {},
     "output_type": "display_data"
    }
   ],
   "source": [
    "plotCatHists(data_month, drugsList)"
   ]
  },
  {
   "cell_type": "code",
   "execution_count": 35,
   "metadata": {
    "collapsed": true
   },
   "outputs": [],
   "source": [
    "results_month = calcModels(data_month, drugsList)"
   ]
  },
  {
   "cell_type": "code",
   "execution_count": 36,
   "metadata": {
    "collapsed": false
   },
   "outputs": [
    {
     "data": {
      "text/html": [
       "<div>\n",
       "<style scoped>\n",
       "    .dataframe tbody tr th:only-of-type {\n",
       "        vertical-align: middle;\n",
       "    }\n",
       "\n",
       "    .dataframe tbody tr th {\n",
       "        vertical-align: top;\n",
       "    }\n",
       "\n",
       "    .dataframe thead th {\n",
       "        text-align: right;\n",
       "    }\n",
       "</style>\n",
       "<table border=\"1\" class=\"dataframe\">\n",
       "  <thead>\n",
       "    <tr style=\"text-align: right;\">\n",
       "      <th></th>\n",
       "      <th>Decision Tree</th>\n",
       "      <th>Random Forest</th>\n",
       "      <th>kNN</th>\n",
       "      <th>Logistic Regression</th>\n",
       "    </tr>\n",
       "  </thead>\n",
       "  <tbody>\n",
       "    <tr>\n",
       "      <th>Amphet</th>\n",
       "      <td>0.222222</td>\n",
       "      <td>0.074074</td>\n",
       "      <td>0.185185</td>\n",
       "      <td>0.000000</td>\n",
       "    </tr>\n",
       "    <tr>\n",
       "      <th>Amyl</th>\n",
       "      <td>0.250000</td>\n",
       "      <td>0.000000</td>\n",
       "      <td>0.000000</td>\n",
       "      <td>0.000000</td>\n",
       "    </tr>\n",
       "    <tr>\n",
       "      <th>Benzos</th>\n",
       "      <td>0.269231</td>\n",
       "      <td>0.192308</td>\n",
       "      <td>0.076923</td>\n",
       "      <td>0.038462</td>\n",
       "    </tr>\n",
       "    <tr>\n",
       "      <th>Cannabis</th>\n",
       "      <td>0.555556</td>\n",
       "      <td>0.555556</td>\n",
       "      <td>0.616162</td>\n",
       "      <td>0.646465</td>\n",
       "    </tr>\n",
       "    <tr>\n",
       "      <th>Coke</th>\n",
       "      <td>0.190476</td>\n",
       "      <td>0.000000</td>\n",
       "      <td>0.000000</td>\n",
       "      <td>0.000000</td>\n",
       "    </tr>\n",
       "    <tr>\n",
       "      <th>Crack</th>\n",
       "      <td>0.000000</td>\n",
       "      <td>0.000000</td>\n",
       "      <td>0.000000</td>\n",
       "      <td>0.000000</td>\n",
       "    </tr>\n",
       "    <tr>\n",
       "      <th>Ecstasy</th>\n",
       "      <td>0.130435</td>\n",
       "      <td>0.086957</td>\n",
       "      <td>0.086957</td>\n",
       "      <td>0.000000</td>\n",
       "    </tr>\n",
       "    <tr>\n",
       "      <th>Heroin</th>\n",
       "      <td>0.000000</td>\n",
       "      <td>0.000000</td>\n",
       "      <td>0.000000</td>\n",
       "      <td>0.000000</td>\n",
       "    </tr>\n",
       "    <tr>\n",
       "      <th>Ketamine</th>\n",
       "      <td>0.333333</td>\n",
       "      <td>0.000000</td>\n",
       "      <td>0.000000</td>\n",
       "      <td>0.000000</td>\n",
       "    </tr>\n",
       "    <tr>\n",
       "      <th>Legalh</th>\n",
       "      <td>0.259259</td>\n",
       "      <td>0.111111</td>\n",
       "      <td>0.111111</td>\n",
       "      <td>0.037037</td>\n",
       "    </tr>\n",
       "    <tr>\n",
       "      <th>LSD</th>\n",
       "      <td>0.111111</td>\n",
       "      <td>0.000000</td>\n",
       "      <td>0.055556</td>\n",
       "      <td>0.055556</td>\n",
       "    </tr>\n",
       "    <tr>\n",
       "      <th>Meth</th>\n",
       "      <td>0.105263</td>\n",
       "      <td>0.105263</td>\n",
       "      <td>0.105263</td>\n",
       "      <td>0.000000</td>\n",
       "    </tr>\n",
       "    <tr>\n",
       "      <th>Mushrooms</th>\n",
       "      <td>0.266667</td>\n",
       "      <td>0.000000</td>\n",
       "      <td>0.000000</td>\n",
       "      <td>0.000000</td>\n",
       "    </tr>\n",
       "    <tr>\n",
       "      <th>VSA</th>\n",
       "      <td>0.000000</td>\n",
       "      <td>0.000000</td>\n",
       "      <td>0.000000</td>\n",
       "      <td>0.000000</td>\n",
       "    </tr>\n",
       "  </tbody>\n",
       "</table>\n",
       "</div>"
      ],
      "text/plain": [
       "           Decision Tree  Random Forest       kNN  Logistic Regression\n",
       "Amphet          0.222222       0.074074  0.185185             0.000000\n",
       "Amyl            0.250000       0.000000  0.000000             0.000000\n",
       "Benzos          0.269231       0.192308  0.076923             0.038462\n",
       "Cannabis        0.555556       0.555556  0.616162             0.646465\n",
       "Coke            0.190476       0.000000  0.000000             0.000000\n",
       "Crack           0.000000       0.000000  0.000000             0.000000\n",
       "Ecstasy         0.130435       0.086957  0.086957             0.000000\n",
       "Heroin          0.000000       0.000000  0.000000             0.000000\n",
       "Ketamine        0.333333       0.000000  0.000000             0.000000\n",
       "Legalh          0.259259       0.111111  0.111111             0.037037\n",
       "LSD             0.111111       0.000000  0.055556             0.055556\n",
       "Meth            0.105263       0.105263  0.105263             0.000000\n",
       "Mushrooms       0.266667       0.000000  0.000000             0.000000\n",
       "VSA             0.000000       0.000000  0.000000             0.000000"
      ]
     },
     "execution_count": 36,
     "metadata": {},
     "output_type": "execute_result"
    }
   ],
   "source": [
    "# results by sensitivity\n",
    "results_month[0]"
   ]
  },
  {
   "cell_type": "code",
   "execution_count": 37,
   "metadata": {
    "collapsed": false
   },
   "outputs": [
    {
     "data": {
      "text/html": [
       "<div>\n",
       "<style scoped>\n",
       "    .dataframe tbody tr th:only-of-type {\n",
       "        vertical-align: middle;\n",
       "    }\n",
       "\n",
       "    .dataframe tbody tr th {\n",
       "        vertical-align: top;\n",
       "    }\n",
       "\n",
       "    .dataframe thead th {\n",
       "        text-align: right;\n",
       "    }\n",
       "</style>\n",
       "<table border=\"1\" class=\"dataframe\">\n",
       "  <thead>\n",
       "    <tr style=\"text-align: right;\">\n",
       "      <th></th>\n",
       "      <th>Decision Tree</th>\n",
       "      <th>Random Forest</th>\n",
       "      <th>kNN</th>\n",
       "      <th>Logistic Regression</th>\n",
       "    </tr>\n",
       "  </thead>\n",
       "  <tbody>\n",
       "    <tr>\n",
       "      <th>Amphet</th>\n",
       "      <td>0.907407</td>\n",
       "      <td>0.981481</td>\n",
       "      <td>0.975309</td>\n",
       "      <td>0.993827</td>\n",
       "    </tr>\n",
       "    <tr>\n",
       "      <th>Amyl</th>\n",
       "      <td>0.989189</td>\n",
       "      <td>1.000000</td>\n",
       "      <td>1.000000</td>\n",
       "      <td>1.000000</td>\n",
       "    </tr>\n",
       "    <tr>\n",
       "      <th>Benzos</th>\n",
       "      <td>0.871166</td>\n",
       "      <td>0.987730</td>\n",
       "      <td>0.944785</td>\n",
       "      <td>0.987730</td>\n",
       "    </tr>\n",
       "    <tr>\n",
       "      <th>Cannabis</th>\n",
       "      <td>0.777778</td>\n",
       "      <td>0.877778</td>\n",
       "      <td>0.733333</td>\n",
       "      <td>0.866667</td>\n",
       "    </tr>\n",
       "    <tr>\n",
       "      <th>Coke</th>\n",
       "      <td>0.904762</td>\n",
       "      <td>1.000000</td>\n",
       "      <td>0.994048</td>\n",
       "      <td>1.000000</td>\n",
       "    </tr>\n",
       "    <tr>\n",
       "      <th>Crack</th>\n",
       "      <td>0.978495</td>\n",
       "      <td>1.000000</td>\n",
       "      <td>1.000000</td>\n",
       "      <td>1.000000</td>\n",
       "    </tr>\n",
       "    <tr>\n",
       "      <th>Ecstasy</th>\n",
       "      <td>0.843373</td>\n",
       "      <td>0.987952</td>\n",
       "      <td>0.933735</td>\n",
       "      <td>0.993976</td>\n",
       "    </tr>\n",
       "    <tr>\n",
       "      <th>Heroin</th>\n",
       "      <td>0.957219</td>\n",
       "      <td>1.000000</td>\n",
       "      <td>1.000000</td>\n",
       "      <td>1.000000</td>\n",
       "    </tr>\n",
       "    <tr>\n",
       "      <th>Ketamine</th>\n",
       "      <td>0.945355</td>\n",
       "      <td>1.000000</td>\n",
       "      <td>1.000000</td>\n",
       "      <td>1.000000</td>\n",
       "    </tr>\n",
       "    <tr>\n",
       "      <th>Legalh</th>\n",
       "      <td>0.858025</td>\n",
       "      <td>0.987654</td>\n",
       "      <td>0.987654</td>\n",
       "      <td>1.000000</td>\n",
       "    </tr>\n",
       "    <tr>\n",
       "      <th>LSD</th>\n",
       "      <td>0.929825</td>\n",
       "      <td>0.988304</td>\n",
       "      <td>0.964912</td>\n",
       "      <td>1.000000</td>\n",
       "    </tr>\n",
       "    <tr>\n",
       "      <th>Meth</th>\n",
       "      <td>0.911765</td>\n",
       "      <td>1.000000</td>\n",
       "      <td>0.994118</td>\n",
       "      <td>1.000000</td>\n",
       "    </tr>\n",
       "    <tr>\n",
       "      <th>Mushrooms</th>\n",
       "      <td>0.942529</td>\n",
       "      <td>0.994253</td>\n",
       "      <td>0.994253</td>\n",
       "      <td>1.000000</td>\n",
       "    </tr>\n",
       "    <tr>\n",
       "      <th>VSA</th>\n",
       "      <td>0.961749</td>\n",
       "      <td>1.000000</td>\n",
       "      <td>1.000000</td>\n",
       "      <td>1.000000</td>\n",
       "    </tr>\n",
       "  </tbody>\n",
       "</table>\n",
       "</div>"
      ],
      "text/plain": [
       "           Decision Tree  Random Forest       kNN  Logistic Regression\n",
       "Amphet          0.907407       0.981481  0.975309             0.993827\n",
       "Amyl            0.989189       1.000000  1.000000             1.000000\n",
       "Benzos          0.871166       0.987730  0.944785             0.987730\n",
       "Cannabis        0.777778       0.877778  0.733333             0.866667\n",
       "Coke            0.904762       1.000000  0.994048             1.000000\n",
       "Crack           0.978495       1.000000  1.000000             1.000000\n",
       "Ecstasy         0.843373       0.987952  0.933735             0.993976\n",
       "Heroin          0.957219       1.000000  1.000000             1.000000\n",
       "Ketamine        0.945355       1.000000  1.000000             1.000000\n",
       "Legalh          0.858025       0.987654  0.987654             1.000000\n",
       "LSD             0.929825       0.988304  0.964912             1.000000\n",
       "Meth            0.911765       1.000000  0.994118             1.000000\n",
       "Mushrooms       0.942529       0.994253  0.994253             1.000000\n",
       "VSA             0.961749       1.000000  1.000000             1.000000"
      ]
     },
     "execution_count": 37,
     "metadata": {},
     "output_type": "execute_result"
    }
   ],
   "source": [
    "# results by specificity\n",
    "results_month[1]"
   ]
  },
  {
   "cell_type": "markdown",
   "metadata": {},
   "source": [
    "#### 4. Неделя"
   ]
  },
  {
   "cell_type": "markdown",
   "metadata": {},
   "source": [
    "\"Used in last week\" и \"Used in last month\" -> \"Users\""
   ]
  },
  {
   "cell_type": "code",
   "execution_count": 38,
   "metadata": {
    "collapsed": true
   },
   "outputs": [],
   "source": [
    "data_week = data.copy()\n",
    "data_week.replace([0, 1, 2, 3, 6], 0, inplace=True)\n",
    "data_week.replace([4, 5], 1, inplace=True)"
   ]
  },
  {
   "cell_type": "code",
   "execution_count": 39,
   "metadata": {
    "collapsed": false
   },
   "outputs": [
    {
     "data": {
      "image/png": "[encoded data removed]",
      "text/plain": [
       "<Figure size 1080x1080 with 15 Axes>"
      ]
     },
     "metadata": {},
     "output_type": "display_data"
    }
   ],
   "source": [
    "plotCatHists(data_week, drugsList)"
   ]
  },
  {
   "cell_type": "code",
   "execution_count": 40,
   "metadata": {
    "collapsed": true
   },
   "outputs": [],
   "source": [
    "results_week = calcModels(data_week, drugsList)"
   ]
  },
  {
   "cell_type": "code",
   "execution_count": 41,
   "metadata": {
    "collapsed": false
   },
   "outputs": [
    {
     "data": {
      "text/html": [
       "<div>\n",
       "<style scoped>\n",
       "    .dataframe tbody tr th:only-of-type {\n",
       "        vertical-align: middle;\n",
       "    }\n",
       "\n",
       "    .dataframe tbody tr th {\n",
       "        vertical-align: top;\n",
       "    }\n",
       "\n",
       "    .dataframe thead th {\n",
       "        text-align: right;\n",
       "    }\n",
       "</style>\n",
       "<table border=\"1\" class=\"dataframe\">\n",
       "  <thead>\n",
       "    <tr style=\"text-align: right;\">\n",
       "      <th></th>\n",
       "      <th>Decision Tree</th>\n",
       "      <th>Random Forest</th>\n",
       "      <th>kNN</th>\n",
       "      <th>Logistic Regression</th>\n",
       "    </tr>\n",
       "  </thead>\n",
       "  <tbody>\n",
       "    <tr>\n",
       "      <th>Amphet</th>\n",
       "      <td>0.416667</td>\n",
       "      <td>0.000000</td>\n",
       "      <td>0.000000</td>\n",
       "      <td>0.00000</td>\n",
       "    </tr>\n",
       "    <tr>\n",
       "      <th>Amyl</th>\n",
       "      <td>0.000000</td>\n",
       "      <td>0.000000</td>\n",
       "      <td>0.000000</td>\n",
       "      <td>0.00000</td>\n",
       "    </tr>\n",
       "    <tr>\n",
       "      <th>Benzos</th>\n",
       "      <td>0.300000</td>\n",
       "      <td>0.100000</td>\n",
       "      <td>0.000000</td>\n",
       "      <td>0.00000</td>\n",
       "    </tr>\n",
       "    <tr>\n",
       "      <th>Cannabis</th>\n",
       "      <td>0.285714</td>\n",
       "      <td>0.095238</td>\n",
       "      <td>0.119048</td>\n",
       "      <td>0.02381</td>\n",
       "    </tr>\n",
       "    <tr>\n",
       "      <th>Coke</th>\n",
       "      <td>0.142857</td>\n",
       "      <td>0.000000</td>\n",
       "      <td>0.000000</td>\n",
       "      <td>0.00000</td>\n",
       "    </tr>\n",
       "    <tr>\n",
       "      <th>Crack</th>\n",
       "      <td>0.000000</td>\n",
       "      <td>0.000000</td>\n",
       "      <td>0.000000</td>\n",
       "      <td>0.00000</td>\n",
       "    </tr>\n",
       "    <tr>\n",
       "      <th>Ecstasy</th>\n",
       "      <td>0.187500</td>\n",
       "      <td>0.187500</td>\n",
       "      <td>0.125000</td>\n",
       "      <td>0.00000</td>\n",
       "    </tr>\n",
       "    <tr>\n",
       "      <th>Heroin</th>\n",
       "      <td>0.000000</td>\n",
       "      <td>0.000000</td>\n",
       "      <td>0.000000</td>\n",
       "      <td>0.00000</td>\n",
       "    </tr>\n",
       "    <tr>\n",
       "      <th>Ketamine</th>\n",
       "      <td>0.000000</td>\n",
       "      <td>0.000000</td>\n",
       "      <td>0.000000</td>\n",
       "      <td>0.00000</td>\n",
       "    </tr>\n",
       "    <tr>\n",
       "      <th>Legalh</th>\n",
       "      <td>0.277778</td>\n",
       "      <td>0.000000</td>\n",
       "      <td>0.055556</td>\n",
       "      <td>0.00000</td>\n",
       "    </tr>\n",
       "    <tr>\n",
       "      <th>LSD</th>\n",
       "      <td>0.062500</td>\n",
       "      <td>0.062500</td>\n",
       "      <td>0.062500</td>\n",
       "      <td>0.00000</td>\n",
       "    </tr>\n",
       "    <tr>\n",
       "      <th>Meth</th>\n",
       "      <td>0.200000</td>\n",
       "      <td>0.000000</td>\n",
       "      <td>0.100000</td>\n",
       "      <td>0.00000</td>\n",
       "    </tr>\n",
       "    <tr>\n",
       "      <th>Mushrooms</th>\n",
       "      <td>0.200000</td>\n",
       "      <td>0.066667</td>\n",
       "      <td>0.000000</td>\n",
       "      <td>0.00000</td>\n",
       "    </tr>\n",
       "    <tr>\n",
       "      <th>VSA</th>\n",
       "      <td>0.000000</td>\n",
       "      <td>0.000000</td>\n",
       "      <td>0.000000</td>\n",
       "      <td>0.00000</td>\n",
       "    </tr>\n",
       "  </tbody>\n",
       "</table>\n",
       "</div>"
      ],
      "text/plain": [
       "           Decision Tree  Random Forest       kNN  Logistic Regression\n",
       "Amphet          0.416667       0.000000  0.000000              0.00000\n",
       "Amyl            0.000000       0.000000  0.000000              0.00000\n",
       "Benzos          0.300000       0.100000  0.000000              0.00000\n",
       "Cannabis        0.285714       0.095238  0.119048              0.02381\n",
       "Coke            0.142857       0.000000  0.000000              0.00000\n",
       "Crack           0.000000       0.000000  0.000000              0.00000\n",
       "Ecstasy         0.187500       0.187500  0.125000              0.00000\n",
       "Heroin          0.000000       0.000000  0.000000              0.00000\n",
       "Ketamine        0.000000       0.000000  0.000000              0.00000\n",
       "Legalh          0.277778       0.000000  0.055556              0.00000\n",
       "LSD             0.062500       0.062500  0.062500              0.00000\n",
       "Meth            0.200000       0.000000  0.100000              0.00000\n",
       "Mushrooms       0.200000       0.066667  0.000000              0.00000\n",
       "VSA             0.000000       0.000000  0.000000              0.00000"
      ]
     },
     "execution_count": 41,
     "metadata": {},
     "output_type": "execute_result"
    }
   ],
   "source": [
    "# results by sensitivity\n",
    "results_week[0]"
   ]
  },
  {
   "cell_type": "code",
   "execution_count": 42,
   "metadata": {
    "collapsed": false
   },
   "outputs": [
    {
     "data": {
      "text/html": [
       "<div>\n",
       "<style scoped>\n",
       "    .dataframe tbody tr th:only-of-type {\n",
       "        vertical-align: middle;\n",
       "    }\n",
       "\n",
       "    .dataframe tbody tr th {\n",
       "        vertical-align: top;\n",
       "    }\n",
       "\n",
       "    .dataframe thead th {\n",
       "        text-align: right;\n",
       "    }\n",
       "</style>\n",
       "<table border=\"1\" class=\"dataframe\">\n",
       "  <thead>\n",
       "    <tr style=\"text-align: right;\">\n",
       "      <th></th>\n",
       "      <th>Decision Tree</th>\n",
       "      <th>Random Forest</th>\n",
       "      <th>kNN</th>\n",
       "      <th>Logistic Regression</th>\n",
       "    </tr>\n",
       "  </thead>\n",
       "  <tbody>\n",
       "    <tr>\n",
       "      <th>Amphet</th>\n",
       "      <td>0.920904</td>\n",
       "      <td>0.988701</td>\n",
       "      <td>0.994350</td>\n",
       "      <td>1.000000</td>\n",
       "    </tr>\n",
       "    <tr>\n",
       "      <th>Amyl</th>\n",
       "      <td>0.972973</td>\n",
       "      <td>1.000000</td>\n",
       "      <td>1.000000</td>\n",
       "      <td>1.000000</td>\n",
       "    </tr>\n",
       "    <tr>\n",
       "      <th>Benzos</th>\n",
       "      <td>0.869822</td>\n",
       "      <td>0.994083</td>\n",
       "      <td>0.958580</td>\n",
       "      <td>1.000000</td>\n",
       "    </tr>\n",
       "    <tr>\n",
       "      <th>Cannabis</th>\n",
       "      <td>0.809524</td>\n",
       "      <td>0.972789</td>\n",
       "      <td>0.938776</td>\n",
       "      <td>0.965986</td>\n",
       "    </tr>\n",
       "    <tr>\n",
       "      <th>Coke</th>\n",
       "      <td>0.904762</td>\n",
       "      <td>1.000000</td>\n",
       "      <td>0.994048</td>\n",
       "      <td>1.000000</td>\n",
       "    </tr>\n",
       "    <tr>\n",
       "      <th>Crack</th>\n",
       "      <td>0.989247</td>\n",
       "      <td>1.000000</td>\n",
       "      <td>1.000000</td>\n",
       "      <td>1.000000</td>\n",
       "    </tr>\n",
       "    <tr>\n",
       "      <th>Ecstasy</th>\n",
       "      <td>0.901734</td>\n",
       "      <td>0.994220</td>\n",
       "      <td>0.953757</td>\n",
       "      <td>1.000000</td>\n",
       "    </tr>\n",
       "    <tr>\n",
       "      <th>Heroin</th>\n",
       "      <td>0.962567</td>\n",
       "      <td>1.000000</td>\n",
       "      <td>1.000000</td>\n",
       "      <td>1.000000</td>\n",
       "    </tr>\n",
       "    <tr>\n",
       "      <th>Ketamine</th>\n",
       "      <td>0.951087</td>\n",
       "      <td>1.000000</td>\n",
       "      <td>1.000000</td>\n",
       "      <td>1.000000</td>\n",
       "    </tr>\n",
       "    <tr>\n",
       "      <th>Legalh</th>\n",
       "      <td>0.923977</td>\n",
       "      <td>1.000000</td>\n",
       "      <td>0.982456</td>\n",
       "      <td>1.000000</td>\n",
       "    </tr>\n",
       "    <tr>\n",
       "      <th>LSD</th>\n",
       "      <td>0.919075</td>\n",
       "      <td>0.988439</td>\n",
       "      <td>0.965318</td>\n",
       "      <td>1.000000</td>\n",
       "    </tr>\n",
       "    <tr>\n",
       "      <th>Meth</th>\n",
       "      <td>0.955307</td>\n",
       "      <td>1.000000</td>\n",
       "      <td>0.994413</td>\n",
       "      <td>1.000000</td>\n",
       "    </tr>\n",
       "    <tr>\n",
       "      <th>Mushrooms</th>\n",
       "      <td>0.942529</td>\n",
       "      <td>0.971264</td>\n",
       "      <td>0.994253</td>\n",
       "      <td>1.000000</td>\n",
       "    </tr>\n",
       "    <tr>\n",
       "      <th>VSA</th>\n",
       "      <td>0.972826</td>\n",
       "      <td>1.000000</td>\n",
       "      <td>1.000000</td>\n",
       "      <td>1.000000</td>\n",
       "    </tr>\n",
       "  </tbody>\n",
       "</table>\n",
       "</div>"
      ],
      "text/plain": [
       "           Decision Tree  Random Forest       kNN  Logistic Regression\n",
       "Amphet          0.920904       0.988701  0.994350             1.000000\n",
       "Amyl            0.972973       1.000000  1.000000             1.000000\n",
       "Benzos          0.869822       0.994083  0.958580             1.000000\n",
       "Cannabis        0.809524       0.972789  0.938776             0.965986\n",
       "Coke            0.904762       1.000000  0.994048             1.000000\n",
       "Crack           0.989247       1.000000  1.000000             1.000000\n",
       "Ecstasy         0.901734       0.994220  0.953757             1.000000\n",
       "Heroin          0.962567       1.000000  1.000000             1.000000\n",
       "Ketamine        0.951087       1.000000  1.000000             1.000000\n",
       "Legalh          0.923977       1.000000  0.982456             1.000000\n",
       "LSD             0.919075       0.988439  0.965318             1.000000\n",
       "Meth            0.955307       1.000000  0.994413             1.000000\n",
       "Mushrooms       0.942529       0.971264  0.994253             1.000000\n",
       "VSA             0.972826       1.000000  1.000000             1.000000"
      ]
     },
     "execution_count": 42,
     "metadata": {},
     "output_type": "execute_result"
    }
   ],
   "source": [
    "# results by specificity\n",
    "results_week[1]"
   ]
  },
  {
   "cell_type": "markdown",
   "metadata": {},
   "source": [
    "Можно видеть, что результаты от случая к случаю достаточно сильно отличаются. Для итогового детального рассмотрения предлагается выбрать одно из веществ, для которого результат по метрике *чувствительность* не сильно меняется от модели к модели и имеет достаточно высокое количественное значение. Временной интервал будем рассматривать 1 год, т.к. 10 лет достаточно долгий период, а для месяца и недели результаты получились совсем плохими. Учитывая вышесказанное, предлагается рассмотреть вещество \"Ecstasy\". "
   ]
  },
  {
   "cell_type": "markdown",
   "metadata": {},
   "source": [
    "## Binary classification для вещества \"Ecstasy\" с отнесением к употреблявшим, тех кто принимал в течении года"
   ]
  },
  {
   "cell_type": "code",
   "execution_count": 43,
   "metadata": {
    "collapsed": false
   },
   "outputs": [
    {
     "data": {
      "text/html": [
       "<div>\n",
       "<style scoped>\n",
       "    .dataframe tbody tr th:only-of-type {\n",
       "        vertical-align: middle;\n",
       "    }\n",
       "\n",
       "    .dataframe tbody tr th {\n",
       "        vertical-align: top;\n",
       "    }\n",
       "\n",
       "    .dataframe thead th {\n",
       "        text-align: right;\n",
       "    }\n",
       "</style>\n",
       "<table border=\"1\" class=\"dataframe\">\n",
       "  <thead>\n",
       "    <tr style=\"text-align: right;\">\n",
       "      <th></th>\n",
       "      <th>ID</th>\n",
       "      <th>Age</th>\n",
       "      <th>Gender</th>\n",
       "      <th>Education</th>\n",
       "      <th>Country</th>\n",
       "      <th>Ethnicity</th>\n",
       "      <th>Nscore</th>\n",
       "      <th>Escore</th>\n",
       "      <th>Oscore</th>\n",
       "      <th>Ascore</th>\n",
       "      <th>Cscore</th>\n",
       "      <th>Impulsive</th>\n",
       "      <th>SS</th>\n",
       "      <th>Ecstasy</th>\n",
       "    </tr>\n",
       "  </thead>\n",
       "  <tbody>\n",
       "    <tr>\n",
       "      <th>0</th>\n",
       "      <td>1</td>\n",
       "      <td>35-44</td>\n",
       "      <td>Female</td>\n",
       "      <td>Certificate/diploma</td>\n",
       "      <td>UK</td>\n",
       "      <td>Other</td>\n",
       "      <td>39</td>\n",
       "      <td>36</td>\n",
       "      <td>42</td>\n",
       "      <td>37</td>\n",
       "      <td>42</td>\n",
       "      <td>355</td>\n",
       "      <td>132</td>\n",
       "      <td>0</td>\n",
       "    </tr>\n",
       "    <tr>\n",
       "      <th>1</th>\n",
       "      <td>2</td>\n",
       "      <td>25-34</td>\n",
       "      <td>Male</td>\n",
       "      <td>Doctorate degree</td>\n",
       "      <td>UK</td>\n",
       "      <td>White</td>\n",
       "      <td>29</td>\n",
       "      <td>52</td>\n",
       "      <td>55</td>\n",
       "      <td>48</td>\n",
       "      <td>41</td>\n",
       "      <td>307</td>\n",
       "      <td>223</td>\n",
       "      <td>4</td>\n",
       "    </tr>\n",
       "    <tr>\n",
       "      <th>2</th>\n",
       "      <td>3</td>\n",
       "      <td>35-44</td>\n",
       "      <td>Male</td>\n",
       "      <td>Certificate/diploma</td>\n",
       "      <td>UK</td>\n",
       "      <td>White</td>\n",
       "      <td>31</td>\n",
       "      <td>45</td>\n",
       "      <td>40</td>\n",
       "      <td>32</td>\n",
       "      <td>34</td>\n",
       "      <td>276</td>\n",
       "      <td>249</td>\n",
       "      <td>0</td>\n",
       "    </tr>\n",
       "    <tr>\n",
       "      <th>3</th>\n",
       "      <td>4</td>\n",
       "      <td>18-24</td>\n",
       "      <td>Female</td>\n",
       "      <td>Master degree</td>\n",
       "      <td>UK</td>\n",
       "      <td>White</td>\n",
       "      <td>34</td>\n",
       "      <td>34</td>\n",
       "      <td>46</td>\n",
       "      <td>47</td>\n",
       "      <td>46</td>\n",
       "      <td>276</td>\n",
       "      <td>132</td>\n",
       "      <td>0</td>\n",
       "    </tr>\n",
       "    <tr>\n",
       "      <th>4</th>\n",
       "      <td>5</td>\n",
       "      <td>35-44</td>\n",
       "      <td>Female</td>\n",
       "      <td>Doctorate degree</td>\n",
       "      <td>UK</td>\n",
       "      <td>White</td>\n",
       "      <td>43</td>\n",
       "      <td>28</td>\n",
       "      <td>43</td>\n",
       "      <td>41</td>\n",
       "      <td>50</td>\n",
       "      <td>355</td>\n",
       "      <td>223</td>\n",
       "      <td>1</td>\n",
       "    </tr>\n",
       "  </tbody>\n",
       "</table>\n",
       "</div>"
      ],
      "text/plain": [
       "   ID    Age  Gender            Education Country Ethnicity  Nscore  Escore  \\\n",
       "0   1  35-44  Female  Certificate/diploma      UK     Other      39      36   \n",
       "1   2  25-34    Male     Doctorate degree      UK     White      29      52   \n",
       "2   3  35-44    Male  Certificate/diploma      UK     White      31      45   \n",
       "3   4  18-24  Female        Master degree      UK     White      34      34   \n",
       "4   5  35-44  Female     Doctorate degree      UK     White      43      28   \n",
       "\n",
       "   Oscore  Ascore  Cscore  Impulsive   SS  Ecstasy  \n",
       "0      42      37      42        355  132        0  \n",
       "1      55      48      41        307  223        4  \n",
       "2      40      32      34        276  249        0  \n",
       "3      46      47      46        276  132        0  \n",
       "4      43      41      50        355  223        1  "
      ]
     },
     "execution_count": 43,
     "metadata": {},
     "output_type": "execute_result"
    }
   ],
   "source": [
    "data_ecstasy = data.drop(drugsList, axis=1)\n",
    "data_ecstasy['Ecstasy'] = data['Ecstasy']\n",
    "\n",
    "data_ecstasy.head()"
   ]
  },
  {
   "cell_type": "code",
   "execution_count": 44,
   "metadata": {
    "collapsed": true
   },
   "outputs": [],
   "source": [
    "data_ecstasy['Ecstasy'].replace([0, 1], 0, inplace=True)\n",
    "data_ecstasy['Ecstasy'].replace([2, 3, 4, 5, 6], 1, inplace=True)"
   ]
  },
  {
   "cell_type": "markdown",
   "metadata": {},
   "source": [
    "### Визуализация"
   ]
  },
  {
   "cell_type": "markdown",
   "metadata": {},
   "source": [
    "Распределение употреблявших/неупотреблявших:"
   ]
  },
  {
   "cell_type": "code",
   "execution_count": 45,
   "metadata": {
    "collapsed": false
   },
   "outputs": [
    {
     "data": {
      "image/png": "[encoded data removed]",
      "text/plain": [
       "<Figure size 432x288 with 1 Axes>"
      ]
     },
     "metadata": {},
     "output_type": "display_data"
    }
   ],
   "source": [
    "plt.figure()\n",
    "sns.countplot(data=data_ecstasy, x='Ecstasy')\n",
    "plt.title('Users/non-users distribution')\n",
    "plt.legend(['Non-users', 'Users'])\n",
    "plt.show()"
   ]
  },
  {
   "cell_type": "markdown",
   "metadata": {},
   "source": [
    "Распределение употреблявших/неупотреблявших по возрастным группам:"
   ]
  },
  {
   "cell_type": "code",
   "execution_count": 46,
   "metadata": {
    "collapsed": false
   },
   "outputs": [
    {
     "data": {
      "image/png": "[encoded data removed]",
      "text/plain": [
       "<Figure size 432x288 with 1 Axes>"
      ]
     },
     "metadata": {},
     "output_type": "display_data"
    }
   ],
   "source": [
    "plt.figure()\n",
    "sns.countplot(data=data_ecstasy, x='Age', hue='Ecstasy')\n",
    "plt.title('Users/non-users distribution by age')\n",
    "plt.ylabel('People count')\n",
    "plt.legend(['Non-users', 'Users'])\n",
    "plt.show()"
   ]
  },
  {
   "cell_type": "markdown",
   "metadata": {},
   "source": [
    "Распределение употреблявших/неупотреблявших по полу:"
   ]
  },
  {
   "cell_type": "code",
   "execution_count": 47,
   "metadata": {
    "collapsed": false
   },
   "outputs": [
    {
     "data": {
      "image/png": "[encoded data removed]",
      "text/plain": [
       "<Figure size 432x288 with 1 Axes>"
      ]
     },
     "metadata": {},
     "output_type": "display_data"
    }
   ],
   "source": [
    "plt.figure()\n",
    "sns.countplot(data=data_ecstasy, x='Gender', hue='Ecstasy')\n",
    "plt.title('Users/non-users distribution by gender')\n",
    "plt.ylabel('People count')\n",
    "plt.legend(['Non-users', 'Users'])\n",
    "plt.show()"
   ]
  },
  {
   "cell_type": "markdown",
   "metadata": {},
   "source": [
    "Распределение употреблявших/неупотреблявших по уровню образования:"
   ]
  },
  {
   "cell_type": "code",
   "execution_count": 48,
   "metadata": {
    "collapsed": false
   },
   "outputs": [
    {
     "data": {
      "image/png": "[encoded data removed]",
      "text/plain": [
       "<Figure size 576x504 with 1 Axes>"
      ]
     },
     "metadata": {},
     "output_type": "display_data"
    }
   ],
   "source": [
    "plt.figure(figsize=(8, 7))\n",
    "chart = sns.countplot(data=data_ecstasy, x='Education', hue='Ecstasy')\n",
    "chart.set_xticklabels(chart.get_xticklabels(), rotation=15, horizontalalignment='right')\n",
    "plt.title('Users/non-users distribution by education')\n",
    "plt.ylabel('People count')\n",
    "plt.legend(['Non-users', 'Users'])\n",
    "plt.show()"
   ]
  },
  {
   "cell_type": "markdown",
   "metadata": {},
   "source": [
    "Распределение употреблявших/неупотреблявших по странам:"
   ]
  },
  {
   "cell_type": "code",
   "execution_count": 49,
   "metadata": {
    "collapsed": false
   },
   "outputs": [
    {
     "data": {
      "image/png": "[encoded data removed]",
      "text/plain": [
       "<Figure size 432x288 with 1 Axes>"
      ]
     },
     "metadata": {},
     "output_type": "display_data"
    }
   ],
   "source": [
    "plt.figure()\n",
    "sns.countplot(data=data_ecstasy, x='Country', hue='Ecstasy')\n",
    "plt.title('Users/non-users distribution by county')\n",
    "plt.ylabel('People count')\n",
    "plt.legend(['Non-users', 'Users'])\n",
    "plt.show()"
   ]
  },
  {
   "cell_type": "markdown",
   "metadata": {},
   "source": [
    "Распределение употреблявших/неупотреблявших по этнической принадлежности:"
   ]
  },
  {
   "cell_type": "code",
   "execution_count": 50,
   "metadata": {
    "collapsed": false
   },
   "outputs": [
    {
     "data": {
      "image/png": "[encoded data removed]",
      "text/plain": [
       "<Figure size 432x288 with 1 Axes>"
      ]
     },
     "metadata": {},
     "output_type": "display_data"
    }
   ],
   "source": [
    "plt.figure()\n",
    "chart = sns.countplot(data=data_ecstasy, x='Ethnicity', hue='Ecstasy')\n",
    "plt.title('Users/non-users distribution by ethnicity')\n",
    "plt.ylabel('People count')\n",
    "plt.legend(['Non-users', 'Users'])\n",
    "plt.show()"
   ]
  },
  {
   "cell_type": "markdown",
   "metadata": {},
   "source": [
    "Промежуточные выводы:\n",
    "    - среди молодых людей (18-24) больше всего потребителей вещества \"Ecstasy\". Также в этой возрастной группе потребляющих больше чем неупотребляющих;\n",
    "    - употребляющих мужчин больше чем женщин;\n",
    "    - доля употребляющих больше в группах с низким уровнем образования;\n",
    "    - в США доля употребляющих гораздо выше чем в других странах\n",
    "    - об этнической принадлежности сложно судить, т.к. большинство респондентов относится к категории \"White\""
   ]
  },
  {
   "cell_type": "markdown",
   "metadata": {},
   "source": [
    "Далее посмотрим на гистограммы распределения по медицинским и психологическим показателям (числовые признаки), какие интересные закономерности будут там"
   ]
  },
  {
   "cell_type": "code",
   "execution_count": 51,
   "metadata": {
    "collapsed": false
   },
   "outputs": [
    {
     "data": {
      "image/png": "[encoded data removed]",
      "text/plain": [
       "<Figure size 1440x1008 with 1 Axes>"
      ]
     },
     "metadata": {},
     "output_type": "display_data"
    }
   ],
   "source": [
    "plt.figure(figsize=(20, 14))\n",
    "sns.countplot(data=data_ecstasy, x='Nscore', hue='Ecstasy')\n",
    "plt.title('Users/non-users distribution by neuroticism')\n",
    "plt.legend(['Non-users', 'Users'])\n",
    "plt.ylabel('People count')\n",
    "plt.show()"
   ]
  },
  {
   "cell_type": "code",
   "execution_count": 52,
   "metadata": {
    "collapsed": false
   },
   "outputs": [
    {
     "data": {
      "image/png": "[encoded data removed]",
      "text/plain": [
       "<Figure size 1440x1008 with 1 Axes>"
      ]
     },
     "metadata": {},
     "output_type": "display_data"
    }
   ],
   "source": [
    "plt.figure(figsize=(20, 14))\n",
    "sns.countplot(data=data_ecstasy, x='Escore', hue='Ecstasy')\n",
    "plt.title('Users/non-users distribution by extraversion')\n",
    "plt.legend(['Non-users', 'Users'])\n",
    "plt.ylabel('People count')\n",
    "plt.show()"
   ]
  },
  {
   "cell_type": "code",
   "execution_count": 53,
   "metadata": {
    "collapsed": false
   },
   "outputs": [
    {
     "data": {
      "image/png": "[encoded data removed]",
      "text/plain": [
       "<Figure size 1440x1008 with 1 Axes>"
      ]
     },
     "metadata": {},
     "output_type": "display_data"
    }
   ],
   "source": [
    "plt.figure(figsize=(20, 14))\n",
    "sns.countplot(data=data_ecstasy, x='Oscore', hue='Ecstasy')\n",
    "plt.title('Users/non-users distribution by openness to experience')\n",
    "plt.legend(['Non-users', 'Users'])\n",
    "plt.ylabel('People count')\n",
    "plt.show()"
   ]
  },
  {
   "cell_type": "code",
   "execution_count": 54,
   "metadata": {
    "collapsed": false
   },
   "outputs": [
    {
     "data": {
      "image/png": "[encoded data removed]",
      "text/plain": [
       "<Figure size 1440x1008 with 1 Axes>"
      ]
     },
     "metadata": {},
     "output_type": "display_data"
    }
   ],
   "source": [
    "plt.figure(figsize=(20, 14))\n",
    "sns.countplot(data=data_ecstasy, x='Ascore', hue='Ecstasy')\n",
    "plt.title('Users/non-users distribution by agreeableness')\n",
    "plt.legend(['Non-users', 'Users'])\n",
    "plt.ylabel('People count')\n",
    "plt.show()"
   ]
  },
  {
   "cell_type": "code",
   "execution_count": 55,
   "metadata": {
    "collapsed": false
   },
   "outputs": [
    {
     "data": {
      "image/png": "[encoded data removed]",
      "text/plain": [
       "<Figure size 1440x1008 with 1 Axes>"
      ]
     },
     "metadata": {},
     "output_type": "display_data"
    }
   ],
   "source": [
    "plt.figure(figsize=(20, 14))\n",
    "sns.countplot(data=data_ecstasy, x='Cscore', hue='Ecstasy')\n",
    "plt.title('Users/non-users distribution by conscientiousness')\n",
    "plt.legend(['Non-users', 'Users'])\n",
    "plt.ylabel('People count')\n",
    "plt.show()"
   ]
  },
  {
   "cell_type": "code",
   "execution_count": 56,
   "metadata": {
    "collapsed": false
   },
   "outputs": [
    {
     "data": {
      "image/png": "[encoded data removed]",
      "text/plain": [
       "<Figure size 432x288 with 1 Axes>"
      ]
     },
     "metadata": {},
     "output_type": "display_data"
    }
   ],
   "source": [
    "plt.figure()\n",
    "sns.countplot(data=data_ecstasy, x='Impulsive', hue='Ecstasy')\n",
    "plt.title('Users/non-users distribution by impulsiveness')\n",
    "plt.legend(['Non-users', 'Users'])\n",
    "plt.ylabel('People count')\n",
    "plt.show()"
   ]
  },
  {
   "cell_type": "code",
   "execution_count": 57,
   "metadata": {
    "collapsed": false
   },
   "outputs": [
    {
     "data": {
      "image/png": "[encoded data removed]",
      "text/plain": [
       "<Figure size 432x288 with 1 Axes>"
      ]
     },
     "metadata": {},
     "output_type": "display_data"
    }
   ],
   "source": [
    "plt.figure()\n",
    "sns.countplot(data=data_ecstasy, x='SS', hue='Ecstasy')\n",
    "plt.title('Users/non-users distribution by sensation seeing')\n",
    "plt.legend(['Non-users', 'Users'])\n",
    "plt.ylabel('People count')\n",
    "plt.show()"
   ]
  },
  {
   "cell_type": "markdown",
   "metadata": {},
   "source": [
    " - с ростом значения таких показателей как \"Nscore\" (neuroticism - невротизм), \"Escore\" (extraversion - экстраверсия) и \"Oscore\" (openness to experience - открытость опыту), доля употреблявших растет;\n",
    " - для показателей \"Ascore\" (agreeableness - приятность), \"Cscore\" (conscientiousness - добросовестность), доля. напротив, падает;\n",
    " - также доля употреблявших падает с ростом импульсивности (\"Impulsive\");\n",
    " - доля растет с ростом показателя \"SS\" (sensation seeing - поиск новых ощущений)"
   ]
  },
  {
   "cell_type": "markdown",
   "metadata": {},
   "source": [
    "Приведенные выше результаты выглядят достаточно логично!"
   ]
  },
  {
   "cell_type": "markdown",
   "metadata": {},
   "source": [
    "### Построение моделей"
   ]
  },
  {
   "cell_type": "markdown",
   "metadata": {},
   "source": [
    "будем использовать те же четыре модели, что и ранее: *decision tree, random forest, kNN* и *logistic regression*"
   ]
  },
  {
   "cell_type": "code",
   "execution_count": 58,
   "metadata": {
    "collapsed": false
   },
   "outputs": [
    {
     "name": "stdout",
     "output_type": "stream",
     "text": [
      "DecisionTreeClassifier - sens: 0.5783132530120482; spec: 0.660377358490566\n",
      "RandomForestClassifier - sens: 0.5180722891566265; spec: 0.8207547169811321\n",
      "KNeighborsClassifier - sens: 0.4457831325301205; spec: 0.7169811320754716\n",
      "LogisticRegression - sens: 0.6024096385542169; spec: 0.8113207547169812\n"
     ]
    }
   ],
   "source": [
    "# Формируем набор входных признаков:\n",
    "X = data_ecstasy.drop('Ecstasy', axis=1)\n",
    "X = getOneHotEncoding(X, haracterColumns)\n",
    "X[numericColumns] = StandardScaler().fit_transform(X[numericColumns])\n",
    "\n",
    "# Целевой признак:\n",
    "y = data_ecstasy['Ecstasy']\n",
    "\n",
    "# Разбиваем на train и test:\n",
    "X_train, X_test, y_train, y_test = train_test_split(X, y, test_size=0.1, random_state=17)\n",
    "\n",
    "# Модели\n",
    "tree = DecisionTreeClassifier(random_state=17)\n",
    "rf = RandomForestClassifier(random_state=17)\n",
    "knn = KNeighborsClassifier()\n",
    "lr = LogisticRegression(random_state=17)\n",
    "\n",
    "modelsList = [tree, rf, knn, lr]\n",
    "\n",
    "# Обучаем все модели на тренировочном сете (train)\n",
    "# для каждой модели выведем метрики чувствительность (sens) и специфичность (spec) для тестовой выборки\n",
    "tree.fit(X_train, y_train)\n",
    "tree_sens = recall_score(y_test, tree.predict(X_test))\n",
    "tree_spec = recall_score(y_test, tree.predict(X_test), pos_label=0)\n",
    "\n",
    "rf.fit(X_train, y_train)\n",
    "rf_sens = recall_score(y_test, rf.predict(X_test))\n",
    "rf_spec = recall_score(y_test, rf.predict(X_test), pos_label=0)\n",
    "\n",
    "knn.fit(X_train, y_train)\n",
    "knn_sens = recall_score(y_test, knn.predict(X_test))\n",
    "knn_spec = recall_score(y_test, knn.predict(X_test), pos_label=0)\n",
    "\n",
    "lr.fit(X_train, y_train)\n",
    "lr_sens = recall_score(y_test, lr.predict(X_test))\n",
    "lr_spec = recall_score(y_test, lr.predict(X_test), pos_label=0)\n",
    "\n",
    "# Результаты\n",
    "print('DecisionTreeClassifier - sens: {0}; spec: {1}'.format(tree_sens, tree_spec))\n",
    "print('RandomForestClassifier - sens: {0}; spec: {1}'.format(rf_sens, rf_spec))\n",
    "print('KNeighborsClassifier - sens: {0}; spec: {1}'.format(knn_sens, knn_spec))\n",
    "print('LogisticRegression - sens: {0}; spec: {1}'.format(lr_sens, lr_spec))"
   ]
  },
  {
   "cell_type": "markdown",
   "metadata": {},
   "source": [
    "Качество по-прежнему плохое, попробуем применить кросс-валидацию и поиск по сетке (GridSearchCV) для поиска оптимальных параметров модели"
   ]
  },
  {
   "cell_type": "markdown",
   "metadata": {},
   "source": [
    "### Cross-validation"
   ]
  },
  {
   "cell_type": "markdown",
   "metadata": {},
   "source": [
    "будем использовать разделение \"без перекрытия\" *KFolds* (т.е. test и train в каждом случае будет разделены):"
   ]
  },
  {
   "cell_type": "code",
   "execution_count": 59,
   "metadata": {
    "collapsed": true
   },
   "outputs": [],
   "source": [
    "skf = StratifiedKFold(n_splits=5, shuffle=True, random_state=17)"
   ]
  },
  {
   "cell_type": "markdown",
   "metadata": {},
   "source": [
    "для каждой из четырех моделей будем искать оптимальные параметры по заданной сетке с помощью метода *GridSearchCV*, и смотреть на получившиеся результаты"
   ]
  },
  {
   "cell_type": "markdown",
   "metadata": {},
   "source": [
    "#### decision tree:"
   ]
  },
  {
   "cell_type": "code",
   "execution_count": 60,
   "metadata": {
    "collapsed": false
   },
   "outputs": [
    {
     "data": {
      "text/plain": [
       "GridSearchCV(cv=StratifiedKFold(n_splits=5, random_state=17, shuffle=True),\n",
       "       error_score='raise',\n",
       "       estimator=DecisionTreeClassifier(class_weight=None, criterion='gini', max_depth=None,\n",
       "            max_features=None, max_leaf_nodes=None,\n",
       "            min_impurity_decrease=0.0, min_impurity_split=None,\n",
       "            min_samples_leaf=1, min_samples_split=2,\n",
       "            min_weight_fraction_leaf=0.0, presort=False, random_state=17,\n",
       "            splitter='best'),\n",
       "       fit_params=None, iid=True, n_jobs=-1,\n",
       "       param_grid={'max_depth': [2, 4, 6, 8, 10, 12], 'min_samples_split': [2, 4, 6, 8], 'min_samples_leaf': [1, 3, 5, 7], 'max_features': ['auto', 'sqrt', 'log2']},\n",
       "       pre_dispatch='2*n_jobs', refit=True, return_train_score='warn',\n",
       "       scoring=None, verbose=0)"
      ]
     },
     "execution_count": 60,
     "metadata": {},
     "output_type": "execute_result"
    }
   ],
   "source": [
    "# задаем сетку:\n",
    "param_grid_tree = {'max_depth': list(range(2, 13, 2)),\n",
    "                   'min_samples_split': list(range(2, 9, 2)),\n",
    "                   'min_samples_leaf': list(range(1, 9, 2)),\n",
    "                   'max_features': ['auto', 'sqrt', 'log2']}\n",
    "\n",
    "# создаем модель с лучшими параметрами по сетке с заданными ранее параметрами кросс-валидации (*skf*):\n",
    "tree_grid = GridSearchCV(estimator=DecisionTreeClassifier(random_state=17), \n",
    "                         param_grid=param_grid_tree,\n",
    "                         n_jobs=-1,\n",
    "                         cv=skf)\n",
    "\n",
    "# обучаем модель\n",
    "tree_grid.fit(X_train, y_train)"
   ]
  },
  {
   "cell_type": "code",
   "execution_count": 61,
   "metadata": {
    "collapsed": false
   },
   "outputs": [
    {
     "data": {
      "text/plain": [
       "{'max_depth': 8,\n",
       " 'max_features': 'auto',\n",
       " 'min_samples_leaf': 1,\n",
       " 'min_samples_split': 2}"
      ]
     },
     "execution_count": 61,
     "metadata": {},
     "output_type": "execute_result"
    }
   ],
   "source": [
    "# лучшие найденные параметры\n",
    "tree_grid.best_params_"
   ]
  },
  {
   "cell_type": "code",
   "execution_count": 62,
   "metadata": {
    "collapsed": false
   },
   "outputs": [
    {
     "name": "stdout",
     "output_type": "stream",
     "text": [
      "sens: 0.5060240963855421\n",
      "spec: 0.7075471698113207\n"
     ]
    }
   ],
   "source": [
    "# метрики\n",
    "print('sens: ' + str(recall_score(y_test, tree_grid.best_estimator_.predict(X_test))))\n",
    "print('spec: ' + str(recall_score(y_test, tree_grid.best_estimator_.predict(X_test), pos_label=0)))"
   ]
  },
  {
   "cell_type": "code",
   "execution_count": 78,
   "metadata": {
    "collapsed": false
   },
   "outputs": [
    {
     "data": {
      "text/plain": [
       "array([[0.52941176, 0.47058824],\n",
       "       [1.        , 0.        ],\n",
       "       [0.8       , 0.2       ],\n",
       "       [0.32954545, 0.67045455],\n",
       "       [0.13043478, 0.86956522],\n",
       "       [0.98255814, 0.01744186],\n",
       "       [0.81818182, 0.18181818],\n",
       "       [0.1       , 0.9       ],\n",
       "       [0.98924731, 0.01075269],\n",
       "       [0.        , 1.        ],\n",
       "       [0.8       , 0.2       ],\n",
       "       [0.98924731, 0.01075269],\n",
       "       [1.        , 0.        ],\n",
       "       [0.98255814, 0.01744186],\n",
       "       [0.78571429, 0.21428571],\n",
       "       [0.        , 1.        ],\n",
       "       [0.        , 1.        ],\n",
       "       [0.78571429, 0.21428571],\n",
       "       [0.85714286, 0.14285714],\n",
       "       [0.98255814, 0.01744186],\n",
       "       [0.13043478, 0.86956522],\n",
       "       [1.        , 0.        ],\n",
       "       [0.46666667, 0.53333333],\n",
       "       [0.975     , 0.025     ],\n",
       "       [0.31034483, 0.68965517],\n",
       "       [0.15151515, 0.84848485],\n",
       "       [0.98255814, 0.01744186],\n",
       "       [0.19047619, 0.80952381],\n",
       "       [0.54285714, 0.45714286],\n",
       "       [0.19047619, 0.80952381],\n",
       "       [0.        , 1.        ],\n",
       "       [0.32954545, 0.67045455],\n",
       "       [0.68421053, 0.31578947],\n",
       "       [0.11111111, 0.88888889],\n",
       "       [0.19047619, 0.80952381],\n",
       "       [0.19047619, 0.80952381],\n",
       "       [0.6       , 0.4       ],\n",
       "       [0.60714286, 0.39285714],\n",
       "       [0.975     , 0.025     ],\n",
       "       [1.        , 0.        ],\n",
       "       [0.15151515, 0.84848485],\n",
       "       [0.19047619, 0.80952381],\n",
       "       [1.        , 0.        ],\n",
       "       [0.60714286, 0.39285714],\n",
       "       [0.98924731, 0.01075269],\n",
       "       [0.52941176, 0.47058824],\n",
       "       [1.        , 0.        ],\n",
       "       [0.32954545, 0.67045455],\n",
       "       [1.        , 0.        ],\n",
       "       [0.975     , 0.025     ],\n",
       "       [0.46666667, 0.53333333],\n",
       "       [0.98255814, 0.01744186],\n",
       "       [0.26923077, 0.73076923],\n",
       "       [0.52941176, 0.47058824],\n",
       "       [0.98924731, 0.01075269],\n",
       "       [0.32954545, 0.67045455],\n",
       "       [1.        , 0.        ],\n",
       "       [0.84090909, 0.15909091],\n",
       "       [0.66666667, 0.33333333],\n",
       "       [0.        , 1.        ],\n",
       "       [1.        , 0.        ],\n",
       "       [0.26923077, 0.73076923],\n",
       "       [0.13333333, 0.86666667],\n",
       "       [0.19047619, 0.80952381],\n",
       "       [0.8       , 0.2       ],\n",
       "       [1.        , 0.        ],\n",
       "       [0.25454545, 0.74545455],\n",
       "       [0.85714286, 0.14285714],\n",
       "       [0.44444444, 0.55555556],\n",
       "       [0.32954545, 0.67045455],\n",
       "       [0.46666667, 0.53333333],\n",
       "       [0.75      , 0.25      ],\n",
       "       [0.        , 1.        ],\n",
       "       [0.98255814, 0.01744186],\n",
       "       [0.54285714, 0.45714286],\n",
       "       [0.5952381 , 0.4047619 ],\n",
       "       [0.18181818, 0.81818182],\n",
       "       [1.        , 0.        ],\n",
       "       [1.        , 0.        ],\n",
       "       [1.        , 0.        ],\n",
       "       [0.15151515, 0.84848485],\n",
       "       [0.25      , 0.75      ],\n",
       "       [0.9       , 0.1       ],\n",
       "       [0.46666667, 0.53333333],\n",
       "       [0.15151515, 0.84848485],\n",
       "       [0.05      , 0.95      ],\n",
       "       [1.        , 0.        ],\n",
       "       [0.9       , 0.1       ],\n",
       "       [0.98255814, 0.01744186],\n",
       "       [0.19047619, 0.80952381],\n",
       "       [0.975     , 0.025     ],\n",
       "       [0.30769231, 0.69230769],\n",
       "       [0.8       , 0.2       ],\n",
       "       [0.84090909, 0.15909091],\n",
       "       [0.98924731, 0.01075269],\n",
       "       [0.19047619, 0.80952381],\n",
       "       [1.        , 0.        ],\n",
       "       [0.75      , 0.25      ],\n",
       "       [0.19047619, 0.80952381],\n",
       "       [0.85714286, 0.14285714],\n",
       "       [0.975     , 0.025     ],\n",
       "       [1.        , 0.        ],\n",
       "       [0.42857143, 0.57142857],\n",
       "       [0.98255814, 0.01744186],\n",
       "       [0.15151515, 0.84848485],\n",
       "       [0.98255814, 0.01744186],\n",
       "       [0.05      , 0.95      ],\n",
       "       [0.68181818, 0.31818182],\n",
       "       [1.        , 0.        ],\n",
       "       [0.83333333, 0.16666667],\n",
       "       [0.60714286, 0.39285714],\n",
       "       [0.13043478, 0.86956522],\n",
       "       [0.        , 1.        ],\n",
       "       [0.13043478, 0.86956522],\n",
       "       [1.        , 0.        ],\n",
       "       [0.98924731, 0.01075269],\n",
       "       [0.66666667, 0.33333333],\n",
       "       [0.68181818, 0.31818182],\n",
       "       [1.        , 0.        ],\n",
       "       [0.84090909, 0.15909091],\n",
       "       [0.32954545, 0.67045455],\n",
       "       [1.        , 0.        ],\n",
       "       [0.6       , 0.4       ],\n",
       "       [0.13043478, 0.86956522],\n",
       "       [0.15151515, 0.84848485],\n",
       "       [0.98255814, 0.01744186],\n",
       "       [0.        , 1.        ],\n",
       "       [0.98255814, 0.01744186],\n",
       "       [0.98255814, 0.01744186],\n",
       "       [0.9       , 0.1       ],\n",
       "       [0.98255814, 0.01744186],\n",
       "       [0.5952381 , 0.4047619 ],\n",
       "       [1.        , 0.        ],\n",
       "       [0.98255814, 0.01744186],\n",
       "       [0.8       , 0.2       ],\n",
       "       [0.25454545, 0.74545455],\n",
       "       [0.13043478, 0.86956522],\n",
       "       [0.975     , 0.025     ],\n",
       "       [1.        , 0.        ],\n",
       "       [0.32954545, 0.67045455],\n",
       "       [0.53846154, 0.46153846],\n",
       "       [0.75      , 0.25      ],\n",
       "       [0.        , 1.        ],\n",
       "       [0.19047619, 0.80952381],\n",
       "       [0.66666667, 0.33333333],\n",
       "       [0.83333333, 0.16666667],\n",
       "       [0.32954545, 0.67045455],\n",
       "       [1.        , 0.        ],\n",
       "       [0.54285714, 0.45714286],\n",
       "       [0.98255814, 0.01744186],\n",
       "       [0.75      , 0.25      ],\n",
       "       [0.4       , 0.6       ],\n",
       "       [0.66666667, 0.33333333],\n",
       "       [0.25454545, 0.74545455],\n",
       "       [0.83333333, 0.16666667],\n",
       "       [0.68181818, 0.31818182],\n",
       "       [0.98924731, 0.01075269],\n",
       "       [0.        , 1.        ],\n",
       "       [0.5952381 , 0.4047619 ],\n",
       "       [0.98924731, 0.01075269],\n",
       "       [0.32954545, 0.67045455],\n",
       "       [1.        , 0.        ],\n",
       "       [0.98255814, 0.01744186],\n",
       "       [0.32954545, 0.67045455],\n",
       "       [0.        , 1.        ],\n",
       "       [0.32954545, 0.67045455],\n",
       "       [0.8       , 0.2       ],\n",
       "       [0.68421053, 0.31578947],\n",
       "       [0.31034483, 0.68965517],\n",
       "       [0.98255814, 0.01744186],\n",
       "       [0.98255814, 0.01744186],\n",
       "       [0.1       , 0.9       ],\n",
       "       [0.        , 1.        ],\n",
       "       [0.85714286, 0.14285714],\n",
       "       [0.98255814, 0.01744186],\n",
       "       [0.84090909, 0.15909091],\n",
       "       [0.25454545, 0.74545455],\n",
       "       [0.84090909, 0.15909091],\n",
       "       [0.31034483, 0.68965517],\n",
       "       [0.25454545, 0.74545455],\n",
       "       [0.42857143, 0.57142857],\n",
       "       [0.84090909, 0.15909091],\n",
       "       [0.66666667, 0.33333333],\n",
       "       [0.98255814, 0.01744186],\n",
       "       [0.68181818, 0.31818182],\n",
       "       [0.98255814, 0.01744186],\n",
       "       [0.78571429, 0.21428571],\n",
       "       [0.52941176, 0.47058824],\n",
       "       [0.32954545, 0.67045455]])"
      ]
     },
     "execution_count": 78,
     "metadata": {},
     "output_type": "execute_result"
    }
   ],
   "source": [
    "# вероятности принадлежности целевого признака к каждому из двух классов\n",
    "tree_grid.best_estimator_.predict_proba(X_test)"
   ]
  },
  {
   "cell_type": "markdown",
   "metadata": {},
   "source": [
    "####  random forest"
   ]
  },
  {
   "cell_type": "code",
   "execution_count": 63,
   "metadata": {
    "collapsed": false
   },
   "outputs": [
    {
     "data": {
      "text/plain": [
       "GridSearchCV(cv=StratifiedKFold(n_splits=5, random_state=17, shuffle=True),\n",
       "       error_score='raise',\n",
       "       estimator=RandomForestClassifier(bootstrap=True, class_weight=None, criterion='gini',\n",
       "            max_depth=None, max_features='auto', max_leaf_nodes=None,\n",
       "            min_impurity_decrease=0.0, min_impurity_split=None,\n",
       "            min_samples_leaf=1, min_samples_split=2,\n",
       "            min_weight_fraction_leaf=0.0, n_estimators=10, n_jobs=1,\n",
       "            oob_score=False, random_state=17, verbose=0, warm_start=False),\n",
       "       fit_params=None, iid=True, n_jobs=-1,\n",
       "       param_grid={'n_estimators': [1, 6, 11, 16, 21, 26, 31, 36, 41, 46, 51, 56, 61, 66, 71, 76, 81, 86, 91, 96, 101], 'max_depth': [2, 4, 6, 8, 10, 12], 'min_samples_split': [2, 4, 6, 8], 'min_samples_leaf': [1, 3, 5, 7], 'max_features': ['auto', 'sqrt', 'log2']},\n",
       "       pre_dispatch='2*n_jobs', refit=True, return_train_score='warn',\n",
       "       scoring=None, verbose=0)"
      ]
     },
     "execution_count": 63,
     "metadata": {},
     "output_type": "execute_result"
    }
   ],
   "source": [
    "# задаем сетку:\n",
    "param_grid_rf = {'n_estimators': list(range(1, 102, 5)),\n",
    "                 'max_depth': list(range(2, 13, 2)),\n",
    "                 'min_samples_split': list(range(2, 9, 2)),\n",
    "                 'min_samples_leaf': list(range(1, 9, 2)),\n",
    "                 'max_features': ['auto', 'sqrt', 'log2']}\n",
    "\n",
    "# создаем модель с лучшими параметрами по сетке с заданными ранее параметрами кросс-валидации (*skf*):\n",
    "rf_grid = GridSearchCV(estimator=RandomForestClassifier(random_state=17), \n",
    "                       param_grid=param_grid_rf,\n",
    "                       n_jobs=-1,\n",
    "                       cv=skf)\n",
    "\n",
    "# обучаем модель\n",
    "rf_grid.fit(X_train, y_train)"
   ]
  },
  {
   "cell_type": "code",
   "execution_count": 64,
   "metadata": {
    "collapsed": false
   },
   "outputs": [
    {
     "data": {
      "text/plain": [
       "{'max_depth': 10,\n",
       " 'max_features': 'auto',\n",
       " 'min_samples_leaf': 1,\n",
       " 'min_samples_split': 4,\n",
       " 'n_estimators': 56}"
      ]
     },
     "execution_count": 64,
     "metadata": {},
     "output_type": "execute_result"
    }
   ],
   "source": [
    "# лучшие найденные параметры\n",
    "rf_grid.best_params_"
   ]
  },
  {
   "cell_type": "code",
   "execution_count": 65,
   "metadata": {
    "collapsed": false
   },
   "outputs": [
    {
     "name": "stdout",
     "output_type": "stream",
     "text": [
      "sens: 0.6144578313253012\n",
      "spec: 0.7924528301886793\n"
     ]
    }
   ],
   "source": [
    "# метрики\n",
    "print('sens: ' + str(recall_score(y_test, rf_grid.best_estimator_.predict(X_test))))\n",
    "print('spec: ' + str(recall_score(y_test, rf_grid.best_estimator_.predict(X_test), pos_label=0)))"
   ]
  },
  {
   "cell_type": "code",
   "execution_count": 76,
   "metadata": {
    "collapsed": false
   },
   "outputs": [
    {
     "data": {
      "text/plain": [
       "array([[0.55550051, 0.44449949],\n",
       "       [0.52924174, 0.47075826],\n",
       "       [0.65151432, 0.34848568],\n",
       "       [0.45808176, 0.54191824],\n",
       "       [0.27010717, 0.72989283],\n",
       "       [0.92659215, 0.07340785],\n",
       "       [0.88983937, 0.11016063],\n",
       "       [0.44546161, 0.55453839],\n",
       "       [0.93794586, 0.06205414],\n",
       "       [0.28934374, 0.71065626],\n",
       "       [0.78807   , 0.21193   ],\n",
       "       [0.79270746, 0.20729254],\n",
       "       [0.67502659, 0.32497341],\n",
       "       [0.90737552, 0.09262448],\n",
       "       [0.89054904, 0.10945096],\n",
       "       [0.39402381, 0.60597619],\n",
       "       [0.65574162, 0.34425838],\n",
       "       [0.83984391, 0.16015609],\n",
       "       [0.48867569, 0.51132431],\n",
       "       [0.8441089 , 0.1558911 ],\n",
       "       [0.22801936, 0.77198064],\n",
       "       [0.53232038, 0.46767962],\n",
       "       [0.59828323, 0.40171677],\n",
       "       [0.85264983, 0.14735017],\n",
       "       [0.63128185, 0.36871815],\n",
       "       [0.33835423, 0.66164577],\n",
       "       [0.80657938, 0.19342062],\n",
       "       [0.24577375, 0.75422625],\n",
       "       [0.56461869, 0.43538131],\n",
       "       [0.29212456, 0.70787544],\n",
       "       [0.54369417, 0.45630583],\n",
       "       [0.21493848, 0.78506152],\n",
       "       [0.59374375, 0.40625625],\n",
       "       [0.42746977, 0.57253023],\n",
       "       [0.31489528, 0.68510472],\n",
       "       [0.24019349, 0.75980651],\n",
       "       [0.27979564, 0.72020436],\n",
       "       [0.51647648, 0.48352352],\n",
       "       [0.93084609, 0.06915391],\n",
       "       [0.80485851, 0.19514149],\n",
       "       [0.3143217 , 0.6856783 ],\n",
       "       [0.27796053, 0.72203947],\n",
       "       [0.33566042, 0.66433958],\n",
       "       [0.54296584, 0.45703416],\n",
       "       [0.92026937, 0.07973063],\n",
       "       [0.57548608, 0.42451392],\n",
       "       [0.73105202, 0.26894798],\n",
       "       [0.34183402, 0.65816598],\n",
       "       [0.86360939, 0.13639061],\n",
       "       [0.70744966, 0.29255034],\n",
       "       [0.5642124 , 0.4357876 ],\n",
       "       [0.89853145, 0.10146855],\n",
       "       [0.34210008, 0.65789992],\n",
       "       [0.7863647 , 0.2136353 ],\n",
       "       [0.91723883, 0.08276117],\n",
       "       [0.29490654, 0.70509346],\n",
       "       [0.82420091, 0.17579909],\n",
       "       [0.82526089, 0.17473911],\n",
       "       [0.7593389 , 0.2406611 ],\n",
       "       [0.40241255, 0.59758745],\n",
       "       [0.86435876, 0.13564124],\n",
       "       [0.4866384 , 0.5133616 ],\n",
       "       [0.32526077, 0.67473923],\n",
       "       [0.3845308 , 0.6154692 ],\n",
       "       [0.76697876, 0.23302124],\n",
       "       [0.66359979, 0.33640021],\n",
       "       [0.61777602, 0.38222398],\n",
       "       [0.66420352, 0.33579648],\n",
       "       [0.69791062, 0.30208938],\n",
       "       [0.28663082, 0.71336918],\n",
       "       [0.44995837, 0.55004163],\n",
       "       [0.66815598, 0.33184402],\n",
       "       [0.7601432 , 0.2398568 ],\n",
       "       [0.90118502, 0.09881498],\n",
       "       [0.6370837 , 0.3629163 ],\n",
       "       [0.78019156, 0.21980844],\n",
       "       [0.59088541, 0.40911459],\n",
       "       [0.68661258, 0.31338742],\n",
       "       [0.81287582, 0.18712418],\n",
       "       [0.8253296 , 0.1746704 ],\n",
       "       [0.28356298, 0.71643702],\n",
       "       [0.59753133, 0.40246867],\n",
       "       [0.59654863, 0.40345137],\n",
       "       [0.4070995 , 0.5929005 ],\n",
       "       [0.34928899, 0.65071101],\n",
       "       [0.19005854, 0.80994146],\n",
       "       [0.4573392 , 0.5426608 ],\n",
       "       [0.73283257, 0.26716743],\n",
       "       [0.91808372, 0.08191628],\n",
       "       [0.25063684, 0.74936316],\n",
       "       [0.82463871, 0.17536129],\n",
       "       [0.70718938, 0.29281062],\n",
       "       [0.82639447, 0.17360553],\n",
       "       [0.70490358, 0.29509642],\n",
       "       [0.81100968, 0.18899032],\n",
       "       [0.25081257, 0.74918743],\n",
       "       [0.61076845, 0.38923155],\n",
       "       [0.4146184 , 0.5853816 ],\n",
       "       [0.2125412 , 0.7874588 ],\n",
       "       [0.57859655, 0.42140345],\n",
       "       [0.77074007, 0.22925993],\n",
       "       [0.75951181, 0.24048819],\n",
       "       [0.25545933, 0.74454067],\n",
       "       [0.95701603, 0.04298397],\n",
       "       [0.35636014, 0.64363986],\n",
       "       [0.93798709, 0.06201291],\n",
       "       [0.17333104, 0.82666896],\n",
       "       [0.61966399, 0.38033601],\n",
       "       [0.63710447, 0.36289553],\n",
       "       [0.85132884, 0.14867116],\n",
       "       [0.45939777, 0.54060223],\n",
       "       [0.25464099, 0.74535901],\n",
       "       [0.71120782, 0.28879218],\n",
       "       [0.41461371, 0.58538629],\n",
       "       [0.67677199, 0.32322801],\n",
       "       [0.90382252, 0.09617748],\n",
       "       [0.45053239, 0.54946761],\n",
       "       [0.6438559 , 0.3561441 ],\n",
       "       [0.97518736, 0.02481264],\n",
       "       [0.55041902, 0.44958098],\n",
       "       [0.20866725, 0.79133275],\n",
       "       [0.61456496, 0.38543504],\n",
       "       [0.37182683, 0.62817317],\n",
       "       [0.36792461, 0.63207539],\n",
       "       [0.29020074, 0.70979926],\n",
       "       [0.97739636, 0.02260364],\n",
       "       [0.45253305, 0.54746695],\n",
       "       [0.72438088, 0.27561912],\n",
       "       [0.93571067, 0.06428933],\n",
       "       [0.57254897, 0.42745103],\n",
       "       [0.88073029, 0.11926971],\n",
       "       [0.81823066, 0.18176934],\n",
       "       [0.44079597, 0.55920403],\n",
       "       [0.86810513, 0.13189487],\n",
       "       [0.43730684, 0.56269316],\n",
       "       [0.77983626, 0.22016374],\n",
       "       [0.2952159 , 0.7047841 ],\n",
       "       [0.92245935, 0.07754065],\n",
       "       [0.71406114, 0.28593886],\n",
       "       [0.21474538, 0.78525462],\n",
       "       [0.83756753, 0.16243247],\n",
       "       [0.58008278, 0.41991722],\n",
       "       [0.39911556, 0.60088444],\n",
       "       [0.26595554, 0.73404446],\n",
       "       [0.45849199, 0.54150801],\n",
       "       [0.48018075, 0.51981925],\n",
       "       [0.36128867, 0.63871133],\n",
       "       [0.53722123, 0.46277877],\n",
       "       [0.38123102, 0.61876898],\n",
       "       [0.79905274, 0.20094726],\n",
       "       [0.26676549, 0.73323451],\n",
       "       [0.7091479 , 0.2908521 ],\n",
       "       [0.45422961, 0.54577039],\n",
       "       [0.80877399, 0.19122601],\n",
       "       [0.33201527, 0.66798473],\n",
       "       [0.68589545, 0.31410455],\n",
       "       [0.91670333, 0.08329667],\n",
       "       [0.46301162, 0.53698838],\n",
       "       [0.89973102, 0.10026898],\n",
       "       [0.88884458, 0.11115542],\n",
       "       [0.32329099, 0.67670901],\n",
       "       [0.93173641, 0.06826359],\n",
       "       [0.98770265, 0.01229735],\n",
       "       [0.25350619, 0.74649381],\n",
       "       [0.54911865, 0.45088135],\n",
       "       [0.39450164, 0.60549836],\n",
       "       [0.85545905, 0.14454095],\n",
       "       [0.7600296 , 0.2399704 ],\n",
       "       [0.54055107, 0.45944893],\n",
       "       [0.90734051, 0.09265949],\n",
       "       [0.85067737, 0.14932263],\n",
       "       [0.26094644, 0.73905356],\n",
       "       [0.40401688, 0.59598312],\n",
       "       [0.8553666 , 0.1446334 ],\n",
       "       [0.76930393, 0.23069607],\n",
       "       [0.69843997, 0.30156003],\n",
       "       [0.51430528, 0.48569472],\n",
       "       [0.69573121, 0.30426879],\n",
       "       [0.40704372, 0.59295628],\n",
       "       [0.83838667, 0.16161333],\n",
       "       [0.25563608, 0.74436392],\n",
       "       [0.26758358, 0.73241642],\n",
       "       [0.39777495, 0.60222505],\n",
       "       [0.75479184, 0.24520816],\n",
       "       [0.61109062, 0.38890938],\n",
       "       [0.96700555, 0.03299445],\n",
       "       [0.76379307, 0.23620693],\n",
       "       [0.30827011, 0.69172989],\n",
       "       [0.38609093, 0.61390907]])"
      ]
     },
     "execution_count": 76,
     "metadata": {},
     "output_type": "execute_result"
    }
   ],
   "source": [
    "# вероятности принадлежности целевого признака к каждому из двух классов\n",
    "rf_grid.best_estimator_.predict_proba(X_test)"
   ]
  },
  {
   "cell_type": "markdown",
   "metadata": {},
   "source": [
    "#### kNN"
   ]
  },
  {
   "cell_type": "code",
   "execution_count": 66,
   "metadata": {
    "collapsed": false
   },
   "outputs": [
    {
     "data": {
      "text/plain": [
       "GridSearchCV(cv=StratifiedKFold(n_splits=5, random_state=17, shuffle=True),\n",
       "       error_score='raise',\n",
       "       estimator=KNeighborsClassifier(algorithm='auto', leaf_size=30, metric='minkowski',\n",
       "           metric_params=None, n_jobs=1, n_neighbors=5, p=2,\n",
       "           weights='uniform'),\n",
       "       fit_params=None, iid=True, n_jobs=-1,\n",
       "       param_grid={'n_neighbors': [1, 3, 5, 7, 9, 11, 13, 15, 17, 19, 21, 23, 25, 27, 29, 31, 33, 35, 37, 39, 41, 43, 45, 47, 49], 'weights': ['uniform', 'distance'], 'metric': ['euclidean', 'manhattan', 'minkowski']},\n",
       "       pre_dispatch='2*n_jobs', refit=True, return_train_score='warn',\n",
       "       scoring=None, verbose=0)"
      ]
     },
     "execution_count": 66,
     "metadata": {},
     "output_type": "execute_result"
    }
   ],
   "source": [
    "# задаем сетку:\n",
    "param_grid_knn = {'n_neighbors': list(range(1, 50, 2)),\n",
    "                  'weights': ['uniform', 'distance'],\n",
    "                  'metric': ['euclidean', 'manhattan', 'minkowski']}\n",
    "\n",
    "# создаем модель с лучшими параметрами по сетке с заданными ранее параметрами кросс-валидации (*skf*):\n",
    "knn_grid = GridSearchCV(estimator=KNeighborsClassifier(), \n",
    "                        param_grid=param_grid_knn,\n",
    "                        n_jobs=-1,\n",
    "                        cv=skf)\n",
    "\n",
    "# обучаем модель\n",
    "knn_grid.fit(X_train, y_train)"
   ]
  },
  {
   "cell_type": "code",
   "execution_count": 67,
   "metadata": {
    "collapsed": false
   },
   "outputs": [
    {
     "data": {
      "text/plain": [
       "{'metric': 'manhattan', 'n_neighbors': 19, 'weights': 'uniform'}"
      ]
     },
     "execution_count": 67,
     "metadata": {},
     "output_type": "execute_result"
    }
   ],
   "source": [
    "# лучшие найденные параметры\n",
    "knn_grid.best_params_"
   ]
  },
  {
   "cell_type": "code",
   "execution_count": 68,
   "metadata": {
    "collapsed": false
   },
   "outputs": [
    {
     "name": "stdout",
     "output_type": "stream",
     "text": [
      "sens: 0.5662650602409639\n",
      "spec: 0.7452830188679245\n"
     ]
    }
   ],
   "source": [
    "# метрики\n",
    "print('sens: ' + str(recall_score(y_test, knn_grid.best_estimator_.predict(X_test))))\n",
    "print('spec: ' + str(recall_score(y_test, knn_grid.best_estimator_.predict(X_test), pos_label=0)))"
   ]
  },
  {
   "cell_type": "code",
   "execution_count": 77,
   "metadata": {
    "collapsed": false
   },
   "outputs": [
    {
     "data": {
      "text/plain": [
       "array([[0.26315789, 0.73684211],\n",
       "       [0.26315789, 0.73684211],\n",
       "       [0.31578947, 0.68421053],\n",
       "       [0.47368421, 0.52631579],\n",
       "       [0.36842105, 0.63157895],\n",
       "       [0.94736842, 0.05263158],\n",
       "       [0.94736842, 0.05263158],\n",
       "       [0.10526316, 0.89473684],\n",
       "       [0.94736842, 0.05263158],\n",
       "       [0.47368421, 0.52631579],\n",
       "       [0.78947368, 0.21052632],\n",
       "       [0.68421053, 0.31578947],\n",
       "       [0.84210526, 0.15789474],\n",
       "       [0.78947368, 0.21052632],\n",
       "       [0.78947368, 0.21052632],\n",
       "       [0.36842105, 0.63157895],\n",
       "       [0.52631579, 0.47368421],\n",
       "       [0.89473684, 0.10526316],\n",
       "       [0.89473684, 0.10526316],\n",
       "       [0.73684211, 0.26315789],\n",
       "       [0.36842105, 0.63157895],\n",
       "       [0.36842105, 0.63157895],\n",
       "       [0.47368421, 0.52631579],\n",
       "       [0.57894737, 0.42105263],\n",
       "       [0.52631579, 0.47368421],\n",
       "       [0.42105263, 0.57894737],\n",
       "       [0.94736842, 0.05263158],\n",
       "       [0.52631579, 0.47368421],\n",
       "       [0.52631579, 0.47368421],\n",
       "       [0.78947368, 0.21052632],\n",
       "       [0.31578947, 0.68421053],\n",
       "       [0.42105263, 0.57894737],\n",
       "       [0.57894737, 0.42105263],\n",
       "       [0.36842105, 0.63157895],\n",
       "       [0.68421053, 0.31578947],\n",
       "       [0.31578947, 0.68421053],\n",
       "       [0.21052632, 0.78947368],\n",
       "       [0.47368421, 0.52631579],\n",
       "       [0.78947368, 0.21052632],\n",
       "       [0.84210526, 0.15789474],\n",
       "       [0.52631579, 0.47368421],\n",
       "       [0.21052632, 0.78947368],\n",
       "       [0.42105263, 0.57894737],\n",
       "       [0.42105263, 0.57894737],\n",
       "       [1.        , 0.        ],\n",
       "       [0.63157895, 0.36842105],\n",
       "       [0.68421053, 0.31578947],\n",
       "       [0.42105263, 0.57894737],\n",
       "       [0.78947368, 0.21052632],\n",
       "       [0.94736842, 0.05263158],\n",
       "       [0.42105263, 0.57894737],\n",
       "       [0.89473684, 0.10526316],\n",
       "       [0.57894737, 0.42105263],\n",
       "       [0.89473684, 0.10526316],\n",
       "       [0.78947368, 0.21052632],\n",
       "       [0.42105263, 0.57894737],\n",
       "       [0.26315789, 0.73684211],\n",
       "       [0.84210526, 0.15789474],\n",
       "       [0.94736842, 0.05263158],\n",
       "       [0.42105263, 0.57894737],\n",
       "       [0.68421053, 0.31578947],\n",
       "       [0.15789474, 0.84210526],\n",
       "       [0.36842105, 0.63157895],\n",
       "       [0.52631579, 0.47368421],\n",
       "       [0.73684211, 0.26315789],\n",
       "       [0.42105263, 0.57894737],\n",
       "       [0.78947368, 0.21052632],\n",
       "       [0.68421053, 0.31578947],\n",
       "       [0.89473684, 0.10526316],\n",
       "       [0.36842105, 0.63157895],\n",
       "       [0.42105263, 0.57894737],\n",
       "       [0.68421053, 0.31578947],\n",
       "       [0.52631579, 0.47368421],\n",
       "       [0.73684211, 0.26315789],\n",
       "       [0.47368421, 0.52631579],\n",
       "       [0.78947368, 0.21052632],\n",
       "       [0.36842105, 0.63157895],\n",
       "       [0.78947368, 0.21052632],\n",
       "       [0.57894737, 0.42105263],\n",
       "       [0.73684211, 0.26315789],\n",
       "       [0.52631579, 0.47368421],\n",
       "       [0.63157895, 0.36842105],\n",
       "       [0.42105263, 0.57894737],\n",
       "       [0.68421053, 0.31578947],\n",
       "       [0.42105263, 0.57894737],\n",
       "       [0.36842105, 0.63157895],\n",
       "       [0.42105263, 0.57894737],\n",
       "       [0.47368421, 0.52631579],\n",
       "       [0.36842105, 0.63157895],\n",
       "       [0.15789474, 0.84210526],\n",
       "       [0.42105263, 0.57894737],\n",
       "       [0.78947368, 0.21052632],\n",
       "       [0.52631579, 0.47368421],\n",
       "       [0.84210526, 0.15789474],\n",
       "       [0.73684211, 0.26315789],\n",
       "       [0.31578947, 0.68421053],\n",
       "       [0.57894737, 0.42105263],\n",
       "       [0.47368421, 0.52631579],\n",
       "       [0.57894737, 0.42105263],\n",
       "       [0.89473684, 0.10526316],\n",
       "       [0.94736842, 0.05263158],\n",
       "       [0.78947368, 0.21052632],\n",
       "       [0.36842105, 0.63157895],\n",
       "       [0.78947368, 0.21052632],\n",
       "       [0.42105263, 0.57894737],\n",
       "       [0.63157895, 0.36842105],\n",
       "       [0.47368421, 0.52631579],\n",
       "       [0.78947368, 0.21052632],\n",
       "       [0.31578947, 0.68421053],\n",
       "       [0.78947368, 0.21052632],\n",
       "       [0.47368421, 0.52631579],\n",
       "       [0.31578947, 0.68421053],\n",
       "       [0.42105263, 0.57894737],\n",
       "       [0.68421053, 0.31578947],\n",
       "       [0.89473684, 0.10526316],\n",
       "       [0.36842105, 0.63157895],\n",
       "       [0.63157895, 0.36842105],\n",
       "       [0.31578947, 0.68421053],\n",
       "       [0.84210526, 0.15789474],\n",
       "       [0.63157895, 0.36842105],\n",
       "       [0.42105263, 0.57894737],\n",
       "       [1.        , 0.        ],\n",
       "       [0.42105263, 0.57894737],\n",
       "       [0.36842105, 0.63157895],\n",
       "       [0.15789474, 0.84210526],\n",
       "       [0.94736842, 0.05263158],\n",
       "       [0.73684211, 0.26315789],\n",
       "       [0.68421053, 0.31578947],\n",
       "       [0.84210526, 0.15789474],\n",
       "       [0.52631579, 0.47368421],\n",
       "       [0.94736842, 0.05263158],\n",
       "       [0.94736842, 0.05263158],\n",
       "       [0.52631579, 0.47368421],\n",
       "       [0.57894737, 0.42105263],\n",
       "       [0.26315789, 0.73684211],\n",
       "       [0.84210526, 0.15789474],\n",
       "       [0.21052632, 0.78947368],\n",
       "       [0.68421053, 0.31578947],\n",
       "       [0.78947368, 0.21052632],\n",
       "       [0.31578947, 0.68421053],\n",
       "       [0.89473684, 0.10526316],\n",
       "       [0.68421053, 0.31578947],\n",
       "       [0.57894737, 0.42105263],\n",
       "       [0.47368421, 0.52631579],\n",
       "       [0.36842105, 0.63157895],\n",
       "       [0.31578947, 0.68421053],\n",
       "       [0.63157895, 0.36842105],\n",
       "       [0.73684211, 0.26315789],\n",
       "       [0.31578947, 0.68421053],\n",
       "       [0.89473684, 0.10526316],\n",
       "       [0.63157895, 0.36842105],\n",
       "       [0.68421053, 0.31578947],\n",
       "       [0.63157895, 0.36842105],\n",
       "       [0.78947368, 0.21052632],\n",
       "       [0.47368421, 0.52631579],\n",
       "       [0.68421053, 0.31578947],\n",
       "       [0.63157895, 0.36842105],\n",
       "       [0.42105263, 0.57894737],\n",
       "       [0.94736842, 0.05263158],\n",
       "       [0.68421053, 0.31578947],\n",
       "       [0.42105263, 0.57894737],\n",
       "       [0.89473684, 0.10526316],\n",
       "       [0.84210526, 0.15789474],\n",
       "       [0.42105263, 0.57894737],\n",
       "       [0.57894737, 0.42105263],\n",
       "       [0.36842105, 0.63157895],\n",
       "       [0.89473684, 0.10526316],\n",
       "       [0.52631579, 0.47368421],\n",
       "       [0.36842105, 0.63157895],\n",
       "       [0.78947368, 0.21052632],\n",
       "       [0.63157895, 0.36842105],\n",
       "       [0.47368421, 0.52631579],\n",
       "       [0.42105263, 0.57894737],\n",
       "       [0.63157895, 0.36842105],\n",
       "       [0.84210526, 0.15789474],\n",
       "       [0.68421053, 0.31578947],\n",
       "       [0.68421053, 0.31578947],\n",
       "       [0.68421053, 0.31578947],\n",
       "       [0.42105263, 0.57894737],\n",
       "       [0.84210526, 0.15789474],\n",
       "       [0.26315789, 0.73684211],\n",
       "       [0.63157895, 0.36842105],\n",
       "       [0.63157895, 0.36842105],\n",
       "       [0.36842105, 0.63157895],\n",
       "       [0.84210526, 0.15789474],\n",
       "       [0.89473684, 0.10526316],\n",
       "       [0.78947368, 0.21052632],\n",
       "       [0.68421053, 0.31578947],\n",
       "       [0.63157895, 0.36842105]])"
      ]
     },
     "execution_count": 77,
     "metadata": {},
     "output_type": "execute_result"
    }
   ],
   "source": [
    "# вероятности принадлежности целевого признака к каждому из двух классов\n",
    "knn_grid.best_estimator_.predict_proba(X_test)"
   ]
  },
  {
   "cell_type": "markdown",
   "metadata": {},
   "source": [
    "#### Logistic regresion"
   ]
  },
  {
   "cell_type": "code",
   "execution_count": 69,
   "metadata": {
    "collapsed": false
   },
   "outputs": [
    {
     "data": {
      "text/plain": [
       "LogisticRegressionCV(Cs=array([1.00000e-04, 2.63665e-04, 6.95193e-04, 1.83298e-03, 4.83293e-03,\n",
       "       1.27427e-02, 3.35982e-02, 8.85867e-02, 2.33572e-01, 6.15848e-01,\n",
       "       1.62378e+00, 4.28133e+00, 1.12884e+01, 2.97635e+01, 7.84760e+01,\n",
       "       2.06914e+02, 5.45559e+02, 1.43845e+03, 3.79269e+03, 1.00000e+04]),\n",
       "           class_weight=None,\n",
       "           cv=StratifiedKFold(n_splits=5, random_state=17, shuffle=True),\n",
       "           dual=False, fit_intercept=True, intercept_scaling=1.0,\n",
       "           max_iter=10000, multi_class='ovr', n_jobs=-1, penalty='l2',\n",
       "           random_state=17, refit=True, scoring=None, solver='lbfgs',\n",
       "           tol=0.0001, verbose=0)"
      ]
     },
     "execution_count": 69,
     "metadata": {},
     "output_type": "execute_result"
    }
   ],
   "source": [
    "lrcv = LogisticRegressionCV(Cs=np.logspace(-4, 4, num=20), cv=skf, max_iter=10000, random_state=17, n_jobs=-1)\n",
    "lrcv.fit(X_train, y_train)"
   ]
  },
  {
   "cell_type": "code",
   "execution_count": 71,
   "metadata": {
    "collapsed": false
   },
   "outputs": [
    {
     "name": "stdout",
     "output_type": "stream",
     "text": [
      "sens: 0.5783132530120482\n",
      "spec: 0.8113207547169812\n"
     ]
    }
   ],
   "source": [
    "# метрики\n",
    "print('sens: ' + str(recall_score(y_test, lrcv.predict(X_test))))\n",
    "print('spec: ' + str(recall_score(y_test, lrcv.predict(X_test), pos_label=0)))"
   ]
  },
  {
   "cell_type": "code",
   "execution_count": 74,
   "metadata": {
    "collapsed": false
   },
   "outputs": [
    {
     "data": {
      "text/plain": [
       "array([[0.70945453, 0.29054547],\n",
       "       [0.65095626, 0.34904374],\n",
       "       [0.71047044, 0.28952956],\n",
       "       [0.33113591, 0.66886409],\n",
       "       [0.24346979, 0.75653021],\n",
       "       [0.81764609, 0.18235391],\n",
       "       [0.92938159, 0.07061841],\n",
       "       [0.20970903, 0.79029097],\n",
       "       [0.90092222, 0.09907778],\n",
       "       [0.46598101, 0.53401899],\n",
       "       [0.62731537, 0.37268463],\n",
       "       [0.9441748 , 0.0558252 ],\n",
       "       [0.69378421, 0.30621579],\n",
       "       [0.7870135 , 0.2129865 ],\n",
       "       [0.89450568, 0.10549432],\n",
       "       [0.26934496, 0.73065504],\n",
       "       [0.76144053, 0.23855947],\n",
       "       [0.90611224, 0.09388776],\n",
       "       [0.595524  , 0.404476  ],\n",
       "       [0.63685323, 0.36314677],\n",
       "       [0.11680425, 0.88319575],\n",
       "       [0.60013717, 0.39986283],\n",
       "       [0.58614497, 0.41385503],\n",
       "       [0.91084433, 0.08915567],\n",
       "       [0.58635273, 0.41364727],\n",
       "       [0.36069138, 0.63930862],\n",
       "       [0.84860403, 0.15139597],\n",
       "       [0.1986805 , 0.8013195 ],\n",
       "       [0.55018717, 0.44981283],\n",
       "       [0.30674554, 0.69325446],\n",
       "       [0.40833838, 0.59166162],\n",
       "       [0.12090433, 0.87909567],\n",
       "       [0.4838466 , 0.5161534 ],\n",
       "       [0.15451579, 0.84548421],\n",
       "       [0.19959346, 0.80040654],\n",
       "       [0.1461588 , 0.8538412 ],\n",
       "       [0.18327084, 0.81672916],\n",
       "       [0.41803599, 0.58196401],\n",
       "       [0.93293992, 0.06706008],\n",
       "       [0.90026038, 0.09973962],\n",
       "       [0.27524782, 0.72475218],\n",
       "       [0.27122822, 0.72877178],\n",
       "       [0.56955977, 0.43044023],\n",
       "       [0.59025351, 0.40974649],\n",
       "       [0.9401526 , 0.0598474 ],\n",
       "       [0.58157049, 0.41842951],\n",
       "       [0.79944727, 0.20055273],\n",
       "       [0.51685015, 0.48314985],\n",
       "       [0.87915254, 0.12084746],\n",
       "       [0.6572757 , 0.3427243 ],\n",
       "       [0.61579189, 0.38420811],\n",
       "       [0.84839788, 0.15160212],\n",
       "       [0.30761681, 0.69238319],\n",
       "       [0.86748092, 0.13251908],\n",
       "       [0.91238299, 0.08761701],\n",
       "       [0.38630469, 0.61369531],\n",
       "       [0.93186522, 0.06813478],\n",
       "       [0.90072989, 0.09927011],\n",
       "       [0.83436562, 0.16563438],\n",
       "       [0.53436789, 0.46563211],\n",
       "       [0.94491568, 0.05508432],\n",
       "       [0.44661614, 0.55338386],\n",
       "       [0.4644956 , 0.5355044 ],\n",
       "       [0.20794415, 0.79205585],\n",
       "       [0.93590473, 0.06409527],\n",
       "       [0.66921155, 0.33078845],\n",
       "       [0.68424858, 0.31575142],\n",
       "       [0.54464677, 0.45535323],\n",
       "       [0.84855829, 0.15144171],\n",
       "       [0.29391867, 0.70608133],\n",
       "       [0.47480372, 0.52519628],\n",
       "       [0.59984279, 0.40015721],\n",
       "       [0.8509999 , 0.1490001 ],\n",
       "       [0.87710103, 0.12289897],\n",
       "       [0.77784663, 0.22215337],\n",
       "       [0.84294092, 0.15705908],\n",
       "       [0.71145856, 0.28854144],\n",
       "       [0.70949325, 0.29050675],\n",
       "       [0.7390881 , 0.2609119 ],\n",
       "       [0.82129128, 0.17870872],\n",
       "       [0.27881822, 0.72118178],\n",
       "       [0.5635846 , 0.4364154 ],\n",
       "       [0.76556338, 0.23443662],\n",
       "       [0.37082759, 0.62917241],\n",
       "       [0.36237782, 0.63762218],\n",
       "       [0.1630284 , 0.8369716 ],\n",
       "       [0.40018378, 0.59981622],\n",
       "       [0.5979307 , 0.4020693 ],\n",
       "       [0.81596306, 0.18403694],\n",
       "       [0.17730471, 0.82269529],\n",
       "       [0.83186799, 0.16813201],\n",
       "       [0.69910687, 0.30089313],\n",
       "       [0.83772533, 0.16227467],\n",
       "       [0.7423597 , 0.2576403 ],\n",
       "       [0.94368339, 0.05631661],\n",
       "       [0.27419997, 0.72580003],\n",
       "       [0.6947091 , 0.3052909 ],\n",
       "       [0.18261331, 0.81738669],\n",
       "       [0.10120937, 0.89879063],\n",
       "       [0.67545312, 0.32454688],\n",
       "       [0.91222239, 0.08777761],\n",
       "       [0.59011202, 0.40988798],\n",
       "       [0.14033604, 0.85966396],\n",
       "       [0.90430108, 0.09569892],\n",
       "       [0.24945752, 0.75054248],\n",
       "       [0.90839096, 0.09160904],\n",
       "       [0.19150477, 0.80849523],\n",
       "       [0.64002506, 0.35997494],\n",
       "       [0.76572888, 0.23427112],\n",
       "       [0.89655457, 0.10344543],\n",
       "       [0.44862309, 0.55137691],\n",
       "       [0.36962508, 0.63037492],\n",
       "       [0.83633627, 0.16366373],\n",
       "       [0.25508478, 0.74491522],\n",
       "       [0.64039989, 0.35960011],\n",
       "       [0.90438809, 0.09561191],\n",
       "       [0.5606637 , 0.4393363 ],\n",
       "       [0.62562818, 0.37437182],\n",
       "       [0.96151667, 0.03848333],\n",
       "       [0.61889803, 0.38110197],\n",
       "       [0.31303067, 0.68696933],\n",
       "       [0.61901344, 0.38098656],\n",
       "       [0.38933876, 0.61066124],\n",
       "       [0.18465828, 0.81534172],\n",
       "       [0.34899327, 0.65100673],\n",
       "       [0.9116275 , 0.0883725 ],\n",
       "       [0.32619401, 0.67380599],\n",
       "       [0.77968662, 0.22031338],\n",
       "       [0.93805041, 0.06194959],\n",
       "       [0.40174018, 0.59825982],\n",
       "       [0.91088747, 0.08911253],\n",
       "       [0.74372746, 0.25627254],\n",
       "       [0.45017199, 0.54982801],\n",
       "       [0.73608571, 0.26391429],\n",
       "       [0.53668272, 0.46331728],\n",
       "       [0.7643333 , 0.2356667 ],\n",
       "       [0.3249332 , 0.6750668 ],\n",
       "       [0.93030971, 0.06969029],\n",
       "       [0.94769134, 0.05230866],\n",
       "       [0.24684408, 0.75315592],\n",
       "       [0.8512145 , 0.1487855 ],\n",
       "       [0.54829201, 0.45170799],\n",
       "       [0.44592465, 0.55407535],\n",
       "       [0.28919694, 0.71080306],\n",
       "       [0.59096885, 0.40903115],\n",
       "       [0.30966219, 0.69033781],\n",
       "       [0.26148557, 0.73851443],\n",
       "       [0.80761509, 0.19238491],\n",
       "       [0.44368072, 0.55631928],\n",
       "       [0.81145786, 0.18854214],\n",
       "       [0.1456354 , 0.8543646 ],\n",
       "       [0.62800384, 0.37199616],\n",
       "       [0.51990758, 0.48009242],\n",
       "       [0.79554767, 0.20445233],\n",
       "       [0.20046909, 0.79953091],\n",
       "       [0.69673983, 0.30326017],\n",
       "       [0.97178749, 0.02821251],\n",
       "       [0.63455184, 0.36544816],\n",
       "       [0.93019345, 0.06980655],\n",
       "       [0.91357126, 0.08642874],\n",
       "       [0.32552324, 0.67447676],\n",
       "       [0.85313915, 0.14686085],\n",
       "       [0.96101389, 0.03898611],\n",
       "       [0.37404943, 0.62595057],\n",
       "       [0.70124217, 0.29875783],\n",
       "       [0.22430832, 0.77569168],\n",
       "       [0.80748734, 0.19251266],\n",
       "       [0.85327898, 0.14672102],\n",
       "       [0.39549991, 0.60450009],\n",
       "       [0.89110323, 0.10889677],\n",
       "       [0.83828397, 0.16171603],\n",
       "       [0.16299902, 0.83700098],\n",
       "       [0.29290698, 0.70709302],\n",
       "       [0.90541231, 0.09458769],\n",
       "       [0.73651668, 0.26348332],\n",
       "       [0.52967677, 0.47032323],\n",
       "       [0.55840173, 0.44159827],\n",
       "       [0.62197925, 0.37802075],\n",
       "       [0.54933815, 0.45066185],\n",
       "       [0.7879477 , 0.2120523 ],\n",
       "       [0.16926207, 0.83073793],\n",
       "       [0.370942  , 0.629058  ],\n",
       "       [0.4495154 , 0.5504846 ],\n",
       "       [0.9362286 , 0.0637714 ],\n",
       "       [0.60455196, 0.39544804],\n",
       "       [0.91834531, 0.08165469],\n",
       "       [0.88759114, 0.11240886],\n",
       "       [0.38259841, 0.61740159],\n",
       "       [0.32146527, 0.67853473]])"
      ]
     },
     "execution_count": 74,
     "metadata": {},
     "output_type": "execute_result"
    }
   ],
   "source": [
    "# вероятности принадлежности целевого признака к каждому из двух классов\n",
    "lrcv.predict_proba(X_test)"
   ]
  },
  {
   "cell_type": "markdown",
   "metadata": {},
   "source": [
    "Применение кросс-валидации практически не отразилось на качестве обучения для всех моделей. По всей видимости, подтверждается теория о недостаточном размере выборки. Вероятнее всего подобная картина будет при аналогичном детальном рассмотрении других веществ. Необходимо больше данных для качественного обучения!"
   ]
  },
  {
   "cell_type": "code",
   "execution_count": null,
   "metadata": {
    "collapsed": true
   },
   "outputs": [],
   "source": []
  }
 ],
 "metadata": {
  "kernelspec": {
   "display_name": "Python 3",
   "language": "python",
   "name": "python3"
  },
  "language_info": {
   "codemirror_mode": {
    "name": "ipython",
    "version": 3
   },
   "file_extension": ".py",
   "mimetype": "text/x-python",
   "name": "python",
   "nbconvert_exporter": "python",
   "pygments_lexer": "ipython3",
   "version": "3.6.0"
  }
 },
 "nbformat": 4,
 "nbformat_minor": 4
}
